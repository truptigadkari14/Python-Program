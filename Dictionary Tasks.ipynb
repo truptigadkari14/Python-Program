{
 "cells": [
  {
   "cell_type": "code",
   "execution_count": 8,
   "metadata": {},
   "outputs": [
    {
     "name": "stdout",
     "output_type": "stream",
     "text": [
      "{'one': 1, 'two': 2, 'three': 3, 'four': 4}\n",
      "{'one': 1, 'two': 2, 'three': 3, 'four': 4}\n"
     ]
    }
   ],
   "source": [
    "# 1. Convert two lists into a dictionary\n",
    "l1 = ['one','two','three','four']\n",
    "l2 = [1,2,3,4]\n",
    "dict1 = dict(zip(l1,l2))\n",
    "print(dict1)\n",
    "\n",
    "dict1 = {l1[i] : l2[i] for i in range(len(l1))}\n",
    "print(dict1)"
   ]
  },
  {
   "cell_type": "code",
   "execution_count": 13,
   "metadata": {},
   "outputs": [
    {
     "name": "stdout",
     "output_type": "stream",
     "text": [
      "{'Trupti': 101, 'Komal': 102, 'Srushti': 103, 'Kajal': 104, 'Poornima': 105}\n",
      "{'Trupti': 101, 'Komal': 102, 'Srushti': 103, 'Kajal': 104, 'Poornima': 105}\n"
     ]
    }
   ],
   "source": [
    "# 2. Merge two Python dictionaries into one\n",
    "dict1 = {'Trupti': 101, 'Komal': 102, 'Srushti': 103}\n",
    "dict2 = {'Kajal': 104, 'Poornima': 105}\n",
    "dict1.update(dict2)\n",
    "print(dict1)\n",
    "\n",
    "dict3 = {**dict1,**dict2}\n",
    "print(dict3)"
   ]
  },
  {
   "cell_type": "code",
   "execution_count": 22,
   "metadata": {},
   "outputs": [
    {
     "data": {
      "text/plain": [
       "{'English': 76, 'Math': 87}"
      ]
     },
     "execution_count": 22,
     "metadata": {},
     "output_type": "execute_result"
    }
   ],
   "source": [
    "# 3. Print the value of key ‘history’ from the given dictionary\n",
    "dict1 = {'Language1': {'Language2': {'English': 76,'Math':87 }}}\n",
    "dict1['Language1']['Language2']"
   ]
  },
  {
   "cell_type": "code",
   "execution_count": 26,
   "metadata": {},
   "outputs": [
    {
     "name": "stdout",
     "output_type": "stream",
     "text": [
      "{'trupti': {'Python': 89}, 'Srushti': {'Python': 89}, 'kajal': {'Python': 89}}\n",
      "{'Python': 89}\n"
     ]
    }
   ],
   "source": [
    "# 4. Initialize dictionary with default values\n",
    "l1 = ['trupti','Srushti','kajal']\n",
    "dict1 = {'Python': 89}\n",
    "dict2 = dict.fromkeys(l1,dict1)\n",
    "print(dict2)\n",
    "print(dict2['Srushti'])"
   ]
  },
  {
   "cell_type": "code",
   "execution_count": 27,
   "metadata": {},
   "outputs": [
    {
     "name": "stdout",
     "output_type": "stream",
     "text": [
      "{'React': 6.7, 'C#': 5.6, 'C++': 7.4}\n"
     ]
    }
   ],
   "source": [
    "# 5. Create a dictionary by extracting the keys from a given dictionary\n",
    "dict1 = {'Python': 9.8,'Java': 8.7, 'React': 6.7,'C#':5.6,'C++':7.4}\n",
    "keys = ['React','C#','C++']\n",
    "dict2 = {i:dict1[i] for i in keys}\n",
    "print(dict2)"
   ]
  },
  {
   "cell_type": "code",
   "execution_count": 31,
   "metadata": {},
   "outputs": [
    {
     "name": "stdout",
     "output_type": "stream",
     "text": [
      "{'Python': 9.8, 'Java': 8.7, 'C++': 7.4}\n"
     ]
    }
   ],
   "source": [
    "# 6. Delete a list of keys from a dictionary\n",
    "dict1 = {'Python': 9.8,'Java': 8.7, 'React': 6.7,'C#':5.6,'C++':7.4}\n",
    "keys = ['React','C#']\n",
    "for i in keys:\n",
    "    dict1.pop(i)\n",
    "print(dict1)"
   ]
  },
  {
   "cell_type": "code",
   "execution_count": 34,
   "metadata": {},
   "outputs": [
    {
     "data": {
      "text/plain": [
       "8.7"
      ]
     },
     "execution_count": 34,
     "metadata": {},
     "output_type": "execute_result"
    }
   ],
   "source": [
    "dict1 = {'Python': 9.8,'Java': 8.7, 'React': 6.7,'C#':5.6,'C++':7.4}\n",
    "dict1.pop('Java')"
   ]
  },
  {
   "cell_type": "code",
   "execution_count": 35,
   "metadata": {},
   "outputs": [
    {
     "data": {
      "text/plain": [
       "True"
      ]
     },
     "execution_count": 35,
     "metadata": {},
     "output_type": "execute_result"
    }
   ],
   "source": [
    "# 7. Check if a value exists in a dictionary\n",
    "dict1 = {'Python': 9.8,'Java': 8.7, 'React': 6.7,'C#':5.6,'C++':7.4}\n",
    "'Java' in dict1"
   ]
  },
  {
   "cell_type": "code",
   "execution_count": 40,
   "metadata": {},
   "outputs": [
    {
     "name": "stdout",
     "output_type": "stream",
     "text": [
      "React in dict1\n"
     ]
    }
   ],
   "source": [
    "if 'React' in dict1.keys():\n",
    "    print('React in dict1')"
   ]
  },
  {
   "cell_type": "code",
   "execution_count": 45,
   "metadata": {},
   "outputs": [
    {
     "name": "stdout",
     "output_type": "stream",
     "text": [
      "{'Python': 9.8, 'Java': 8.7, 'React': 6.7, 'C#': 6.2, 'C++': 7.4}\n",
      "{'Python': 9.8, 'Java': 8.7, 'C#': 6.2, 'C++': 7.4, '.net': 6.7}\n"
     ]
    }
   ],
   "source": [
    "# 8. Rename key of a dictionary\n",
    "dict1 = {'Python': 9.8,'Java': 8.7, 'React': 6.7,'C#':5.6,'C++':7.4}\n",
    "dict1['C#'] = 6.2\n",
    "print(dict1)\n",
    "\n",
    "dict1['.net'] = dict1.pop('React')\n",
    "print(dict1)"
   ]
  },
  {
   "cell_type": "code",
   "execution_count": 48,
   "metadata": {},
   "outputs": [
    {
     "name": "stdout",
     "output_type": "stream",
     "text": [
      "C#\n"
     ]
    }
   ],
   "source": [
    "# 9. Get the key of a minimum value from the following dictionary\n",
    "dict1 = {'Python': 9.8,'Java': 8.7, 'React': 6.7,'C#':5.6,'C++':7.4}\n",
    "print(min(dict1))"
   ]
  },
  {
   "cell_type": "code",
   "execution_count": 50,
   "metadata": {},
   "outputs": [
    {
     "name": "stdout",
     "output_type": "stream",
     "text": [
      "{'stud1': {'Name': 'Trupti', 'age': 21}, 'stud2': {'Name': 'Srushti', 'age': 20}, 'stud3': {'Name': 'Komal', 'age': 22}}\n"
     ]
    }
   ],
   "source": [
    "# 10. Change value of a key in a nested dictionary\n",
    "dict1 = {'stud1': {'Name':'Trupti','age':21},\n",
    "        'stud2': {'Name': 'Srushti','age':19},\n",
    "        'stud3': {'Name': 'Komal','age':22}}\n",
    "dict1['stud2']['age'] = 20\n",
    "print(dict1)"
   ]
  },
  {
   "cell_type": "code",
   "execution_count": 58,
   "metadata": {},
   "outputs": [
    {
     "name": "stdout",
     "output_type": "stream",
     "text": [
      "{'HP': 11, 'Acer': 7, 'Lenovo': 17, 'Del': 23, 'Sumsung': 15, 'Iphone': 9, 'Other': 13}\n"
     ]
    }
   ],
   "source": [
    "# Write a Python program that combines by concatenating these three dictionaries into one.\n",
    "dicPC = {\"HP\": 11, \"Acer\": 7, \"Lenovo\": 17, \"Del\": 23}\n",
    "dicPhone = {\"Sumsung\": 22, \"Iphone\": 9, \"Other\": 13}\n",
    "dicTablet = {\"Sumsung\": 15, \"Other\": 13}\n",
    "dictnew = {}\n",
    "for i in (dicPC, dicPhone, dicTablet):\n",
    "    dictnew.update(i)\n",
    "print(dictnew)"
   ]
  },
  {
   "cell_type": "code",
   "execution_count": 66,
   "metadata": {},
   "outputs": [
    {
     "name": "stdout",
     "output_type": "stream",
     "text": [
      "AdmittedStudents : {'student_1': 13, 'student_2': 17, 'student_4': 15, 'student_6': 14, 'student_7': 16, 'student_8': 12, 'student_9': 13, 'student_10': 15, 'student_11': 14, 'student_13': 10, 'student_14': 12, 'student_15': 13, 'student_17': 12, 'student_18': 15, 'student_20': 17}\n",
      "----------------------------------------------\n",
      "NonAdmittedStudents : {'student_3': 9, 'student_5': 8, 'student_112': 9, 'student_13': 10, 'student_16': 7, 'student_19': 9}\n"
     ]
    }
   ],
   "source": [
    "'''Write a Python program that partitions this dictionary into two sub-dictionaries:\n",
    "1.admittedStudents whose keys are the admitted students and the key values are the averages obtained \n",
    "(average greater than or equal to 10).\n",
    "2.nonAdmittedStudents whose keys are non-admitted students and the key values are the averages obtained \n",
    "(average less than or equal to 10).'''\n",
    "\n",
    "students = {\"student_1\" : 13 , \"student_2\" : 17 , \"student_3\" : 9 , \"student_4\" : 15 , \n",
    "             \"student_5\" : 8 , \"student_6\" : 14 , \"student_7\" : 16 , \"student_8\" : 12 , \n",
    "             \"student_9\" : 13 , \"student_10\" : 15 , \"student_11\" : 14 , \"student_112\" : 9 , \n",
    "             \"student_13\" : 10 , \"student_14\" : 12 , \"student_15\" : 13 , \"student_16\" : 7 ,\n",
    "             \"student_17\" : 12 , \"student_18\" : 15 , \"student_19\" : 9 , \"student_20\" : 17 ,}\n",
    "\n",
    "stud1 = dict({})\n",
    "stud2 = dict({})\n",
    "for key, value in students.items():\n",
    "    if value>=10 :\n",
    "        stud1[key] = value\n",
    "        \n",
    "    if value<=10 :\n",
    "        stud2[key] = value\n",
    "    \n",
    "print('AdmittedStudents :',stud1)\n",
    "print('----------------------------------------------')\n",
    "print('NonAdmittedStudents :',stud2)"
   ]
  },
  {
   "cell_type": "code",
   "execution_count": 70,
   "metadata": {},
   "outputs": [
    {
     "name": "stdout",
     "output_type": "stream",
     "text": [
      "Enter the number :6\n",
      "{1: 1, 2: 4, 3: 9, 4: 16, 5: 25, 6: 36}\n"
     ]
    }
   ],
   "source": [
    "'''Write a Python program that creates from a keyboard-typed integer n, a dictionary whose keys are integers \n",
    "from 1 to n and key values are their squares. Example for n = 7 the dictionary will be of the form:\n",
    "{1: 1, 2: 4, 3: 9, 4:16, 5:25, 6:36, 7:49}\n",
    "'''\n",
    "n = int(input('Enter the number :'))\n",
    "dict1 = dict({})\n",
    "\n",
    "for d in range(1,n+1):\n",
    "    dict1[d] = d*d\n",
    "print(dict1)"
   ]
  },
  {
   "cell_type": "code",
   "execution_count": 73,
   "metadata": {},
   "outputs": [
    {
     "name": "stdout",
     "output_type": "stream",
     "text": [
      "Enter the String :language\n",
      "{'l': 1, 'a': 2, 'n': 1, 'g': 2, 'u': 1, 'e': 1}\n"
     ]
    }
   ],
   "source": [
    "'''Write a program in Python that asks the user to enter a string, and return him a dictionary whose keys are \n",
    "the characters in the string entered and the values are the number of occurrences of the characters in the string. \n",
    "Example if the entered string is s = 'language', the program returns the dictionary:\n",
    "d = {'l': 1, 'a': 2, 'n': 1, 'g': 2, 'e': 1}'''\n",
    "\n",
    "s = input('Enter the String :')\n",
    "dict1 = {}\n",
    "\n",
    "for d in s:\n",
    "     dict1[d] = s.count(d)\n",
    "        \n",
    "print(dict1)"
   ]
  },
  {
   "cell_type": "code",
   "execution_count": 81,
   "metadata": {},
   "outputs": [
    {
     "name": "stdout",
     "output_type": "stream",
     "text": [
      "{3: 'False', 4: 'True', 5: 'False', 6: 'True', 7: 'False', 8: 'True', 2: 'True', 1: 'False', 9: 'False'}\n"
     ]
    }
   ],
   "source": [
    "'''Write a function in Python that takes a list of integers as a parameter and returns a dictionary whose keys are \n",
    "the list integers and whose values are \"even\" or \"odd\" depending on the number parity.'''\n",
    "l = [3,4,5,6,7,8,2,1,9]\n",
    "\n",
    "def dic(l):\n",
    "    dict1 = {}\n",
    "    \n",
    "    for i in l:\n",
    "        if i%2==0 :\n",
    "            dict1[i] = 'True'\n",
    "        else :\n",
    "            dict1[i] = 'False'\n",
    "    return dict1\n",
    "    \n",
    "print(dic(l))"
   ]
  },
  {
   "cell_type": "code",
   "execution_count": 9,
   "metadata": {},
   "outputs": [
    {
     "name": "stdout",
     "output_type": "stream",
     "text": [
      "Enter the integer :3\n",
      "Enter the integer :4\n",
      "Enter the integer :11\n",
      "Enter the integer :6\n",
      "Enter the integer :7\n",
      "{3: 'Prime', 4: 'Not Prime', 11: 'Prime', 6: 'Not Prime', 7: 'Prime'}\n"
     ]
    }
   ],
   "source": [
    "\"\"\"Write a program in Python that asks the user to enter ten integers of their choice and return them a dictionary \n",
    "whose keys are the entered integers and whose values are 'prime' or 'not prime' depending on the entered \n",
    "integer.\"\"\"\n",
    "def isprime(n):\n",
    "    nd = 0\n",
    "    for i in range(1,n+1):\n",
    "        if (n%i == 0) :\n",
    "            nd = nd + 1\n",
    "    if (nd == 2) :\n",
    "        return True\n",
    "    else :\n",
    "        return False\n",
    "        \n",
    "dict1 = {}\n",
    "for i in range(0,5):\n",
    "    n = int(input('Enter the integer :'))\n",
    "    \n",
    "    if (isprime(n)):\n",
    "        dict1[n] = \"Prime\"\n",
    "    else :\n",
    "        dict1[n] = \"Not Prime\"\n",
    "\n",
    "print(dict1)"
   ]
  },
  {
   "cell_type": "code",
   "execution_count": 11,
   "metadata": {},
   "outputs": [
    {
     "name": "stdout",
     "output_type": "stream",
     "text": [
      "Enter value of integer n : 2\n",
      "Enter value of integer n : 7\n",
      "Enter value of integer n : 11\n",
      "Enter value of integer n : 5\n",
      "Enter value of integer n : 3\n",
      "Enter value of integer n : 19\n",
      "Enter value of integer n : 14\n",
      "Enter value of integer n : 9\n",
      "Enter value of integer n : 1\n",
      "Enter value of integer n : 4\n",
      "{2: [1, 2], 7: [1, 7], 11: [1, 11], 5: [1, 5], 3: [1, 3], 19: [1, 19], 14: [1, 2, 7, 14], 9: [1, 3, 9], 1: [1], 4: [1, 2, 4]}\n"
     ]
    }
   ],
   "source": [
    "'''Write a program in Python that asks the user to enter ten integers of their choice and return them a dictionary \n",
    "whose keys are the integers entered and whose values ​​are the lists of divisors of the numbers entered. Example \n",
    "if the user enters the numbers: 2, 7, 11, 5, 3, 19, 14, 9, 1, 4, the program returns the dictionary:\n",
    "d = {2: [1,2], 7: [1,7], 14: [1,2,7,14],\n",
    "     9: [1,3,9], 11: [1,11], 5: [1,5],\n",
    "     3: [1,3], 19: [1,19], 1: [1], 4: [1,2,4]}'''\n",
    "\n",
    "def listDivisors(n):\n",
    "    listDiv =[]\n",
    "    for i in range(1,n+1):\n",
    "        if n%i == 0:\n",
    "            listDiv.append(i)\n",
    "    return listDiv\n",
    "\n",
    "d = dict({})\n",
    "for i in range(10):\n",
    "    n = int(input(\"Enter value of integer n : \" ))\n",
    "    d[n] = listDivisors(n)\n",
    "\n",
    "print(d)"
   ]
  },
  {
   "cell_type": "code",
   "execution_count": 5,
   "metadata": {},
   "outputs": [
    {
     "name": "stdout",
     "output_type": "stream",
     "text": [
      "Enter value of integer n :7\n",
      "The obtained dictionary is d =  {1: 1, 2: 2, 3: 6, 4: 24, 5: 120, 6: 720}\n"
     ]
    }
   ],
   "source": [
    "'''Write a python program that asks the user to enter an integer n and return a dictionary whose keys are integers \n",
    "1, 2, 3, ... n and whose values ​​are 1! , 2! , 3! , … , n!'''\n",
    "\n",
    "def fact(n):\n",
    "    facto = 1\n",
    "    for i in range(1, n + 1):\n",
    "        facto = facto*i\n",
    "    return facto\n",
    "\n",
    "d = dict({})\n",
    "n = int(input(\"Enter value of integer n :\"))\n",
    "for i in range(1, n):\n",
    "    d[i] = fact(i)\n",
    "    \n",
    "print(\"The obtained dictionary is d = \" , d)"
   ]
  },
  {
   "cell_type": "code",
   "execution_count": 6,
   "metadata": {},
   "outputs": [
    {
     "name": "stdout",
     "output_type": "stream",
     "text": [
      "Enter value of integer n :8\n",
      "The obtained dictionary is d =  {1: 1, 2: 3, 3: 6, 4: 10, 5: 15, 6: 21, 7: 28}\n"
     ]
    }
   ],
   "source": [
    "'''Write a program in Python that asks the user to enter an integer n and return a dictionary whose keys are the \n",
    "integers 1, 2, 3, ... n and whose values ​​are the sums 1, 1+ 2, 1 + 2 + 3,…, 1 + 2 + 3 +… + n.'''\n",
    "\n",
    "def sumInt(n):\n",
    "    s = 0\n",
    "    for i in range(1, n + 1):\n",
    "        s = s + i\n",
    "    return s\n",
    " \n",
    "d= dict({})\n",
    "n = int(input(\"Enter value of integer n :\"))\n",
    "for i in range(1, n):\n",
    "    d[i] = sumInt(i)\n",
    "    \n",
    "print(\"The obtained dictionary is d = \" , d)"
   ]
  },
  {
   "cell_type": "code",
   "execution_count": 10,
   "metadata": {},
   "outputs": [
    {
     "name": "stdout",
     "output_type": "stream",
     "text": [
      "Enter the sentence :Python is a programming language\n",
      "{'Python': 6, 'is': 2, 'a': 1, 'programming': 11, 'language': 8}\n"
     ]
    }
   ],
   "source": [
    "'''Write a Python program that asks the user to enter a text and return a dictionary whose keys are the words of \n",
    "the text entered and the values are the lengths of the words that make up the text. Example for the text \n",
    "T = \"Python is a programming language\", the program must return the dictionary:\n",
    "d = {'Python': 6, 'is': 3, 'a': 3, 'language': 7, 'de': 2, 'programming': 13}'''\n",
    "\n",
    "T = input('Enter the sentence :')\n",
    "word = T.split(' ')\n",
    "\n",
    "dict1 = {}\n",
    "for i in word:\n",
    "    dict1[i] = len(i)\n",
    "    \n",
    "print(dict1)"
   ]
  },
  {
   "cell_type": "code",
   "execution_count": 13,
   "metadata": {},
   "outputs": [
    {
     "name": "stdout",
     "output_type": "stream",
     "text": [
      "Enter the sentence :Python is easy\n",
      "{'Python': 'nohtyP', 'is': 'si', 'easy': 'ysae'}\n"
     ]
    }
   ],
   "source": [
    "'''Write a Python program that asks the user to enter a text and return him a dictionary whose keys are the words \n",
    "of the text entered and the values are the reverse of the words that make up the text. Example for the text \n",
    "T = \"Python is easy\", the program must return the dictionary:\n",
    "d = {'Python': 'nohtyp', 'is': 'si', 'easy': 'ysae'}'''\n",
    "\n",
    "T = input('Enter the sentence :')\n",
    "word = T.split(' ')\n",
    "\n",
    "dict1 = {}\n",
    "for i in word:\n",
    "    dict1[i] = i[::-1]\n",
    "    \n",
    "print(dict1)"
   ]
  },
  {
   "cell_type": "code",
   "execution_count": 14,
   "metadata": {},
   "outputs": [
    {
     "name": "stdout",
     "output_type": "stream",
     "text": [
      "{'a1': [3, 17, 21, 22], 'a2': [8, 11, 13, 15], 'a3': [2, 7, 11, 13], 'a4': [7, 9, 14, 22]}\n"
     ]
    }
   ],
   "source": [
    "'''Given a dictionary d whose key values are lists. Write a Python program that transforms the dictionary d by \n",
    "sorting the lists. Example for the dictionary:\n",
    "d = {'a1': [21, 17, 22, 3], 'a2': [11, 15, 8, 13], 'a3': [7, 13, 2, 11], 'a4': [22,14,7,9]}\n",
    "The program should return the dictionary:\n",
    "d = {'a1': [3, 17, 21, 22], 'a2': [8, 11, 13, 15], 'a3': [2, 7, 11, 13], 'a4': [7, 9, 14, 22]}'''\n",
    "\n",
    "d = {'a1': [21, 17, 22, 3], 'a2': [11, 15, 8, 13], 'a3': [7, 13, 2, 11], 'a4': [22,14,7,9]}\n",
    "for key,value in d.items():\n",
    "    value.sort()\n",
    "    d[key] = value\n",
    "    \n",
    "print(d)"
   ]
  },
  {
   "cell_type": "code",
   "execution_count": 39,
   "metadata": {},
   "outputs": [
    {
     "name": "stdout",
     "output_type": "stream",
     "text": [
      "writing successfully...\n"
     ]
    }
   ],
   "source": [
    "'''Write a Python program that allows from a given directory to create a dictionary whose keys are the names of \n",
    "the text files located in this directory and the keys are the numbers of the lines of the files.'''\n",
    "\n",
    "file = open('data.txt', 'w')\n",
    "file.write('Trupti \\nKajal \\nKomal \\nMansi \\nSudaivi \\nSrushti \\nVaishanvi')\n",
    "file.close()\n",
    "print('writing successfully...')"
   ]
  },
  {
   "cell_type": "code",
   "execution_count": 22,
   "metadata": {},
   "outputs": [
    {
     "name": "stdout",
     "output_type": "stream",
     "text": [
      "Writing successfully....\n"
     ]
    }
   ],
   "source": [
    "'''We consider the Pythons dictionary which contains a personal data :\n",
    "personalData = {'Name' : 'David' , 'Email' : 'david@gmail.com' , 'Phone' : 33354587 , 'age' : 27 }\n",
    "Write a Python program that save data contained in personalData into a file called data.txt .'''\n",
    "\n",
    "personalData = {'Name' : 'David' , 'Email' : 'david@gmail.com' , 'Phone' : 33354587 , 'age' : 27 }\n",
    "file = open('data.txt','w')\n",
    "for key, value in personalData.items():\n",
    "    file.write(key + ' : ' + str(personalData[key]) + '\\n')\n",
    "file.close()\n",
    "print('Writing successfully....')"
   ]
  },
  {
   "cell_type": "code",
   "execution_count": 25,
   "metadata": {},
   "outputs": [
    {
     "name": "stdout",
     "output_type": "stream",
     "text": [
      "writing successfully....\n"
     ]
    }
   ],
   "source": [
    "'''1) - Write a python program which creates a file named data.txt and write the following lines in this file: \n",
    "Name: David Email:\n",
    "david@gmail.com\n",
    "Phone: 33354587 age: 27 '''\n",
    "\n",
    "file = open('data.txt','w')\n",
    "file.write('Name: David \\nEmail:david@gmail.com \\nPhone: 33354587 \\nage: 27' )\n",
    "file.close()\n",
    "print('writing successfully....')"
   ]
  },
  {
   "cell_type": "code",
   "execution_count": 27,
   "metadata": {},
   "outputs": [
    {
     "name": "stdout",
     "output_type": "stream",
     "text": [
      "{'Name': ' David \\n', 'Email': 'david@gmail.com \\n', 'Phone': ' 33354587 \\n', 'age': ' 27'}\n"
     ]
    }
   ],
   "source": [
    "'''2) - Write a Python program that reads the data.txt file and exports its content to a dictionary:\n",
    "d = {'Name': 'David', 'Email': 'david@gmail.com', 'Phone': 33354587, age ': 27}'''\n",
    "\n",
    "dict1 = {}\n",
    "file = open('data.txt','r')\n",
    "read = file.readlines()\n",
    "for i in read:\n",
    "    dict1[i.split(':')[0]] = i.split(':')[1]\n",
    "    \n",
    "print(dict1)"
   ]
  },
  {
   "cell_type": "code",
   "execution_count": 29,
   "metadata": {},
   "outputs": [
    {
     "name": "stdout",
     "output_type": "stream",
     "text": [
      "{'Name': 'Albert', 'Email': 'albert@gmail.com', 'Phone': 2225668877}\n"
     ]
    }
   ],
   "source": [
    "'''From the following two lists, create a dictionary by two different methods:\n",
    "keys = ['Name', 'Email', 'Phone']\n",
    "values = ['Albert', 'albert@gmail.com', 2225668877]\n",
    "The output should be:\n",
    "data = {'Name': 'Albert', 'Email': 'albert@gmail.com', 'Phone': 2225668877}'''\n",
    "\n",
    "keys = ['Name', 'Email', 'Phone']\n",
    "values = ['Albert', 'albert@gmail.com', 2225668877]\n",
    "\n",
    "dict1 = dict(zip(keys,values))\n",
    "print(dict1)"
   ]
  },
  {
   "cell_type": "code",
   "execution_count": 30,
   "metadata": {},
   "outputs": [
    {
     "name": "stdout",
     "output_type": "stream",
     "text": [
      "{'Name': 'Albert', 'Email': 'albert@gmail.com', 'Phone': 2225668877}\n"
     ]
    }
   ],
   "source": [
    "dict1 = {}\n",
    "for i in range(0,len(keys)):\n",
    "    dict1[keys[i]] = values[i]\n",
    "    \n",
    "print(dict1)"
   ]
  },
  {
   "cell_type": "code",
   "execution_count": 32,
   "metadata": {},
   "outputs": [
    {
     "data": {
      "text/plain": [
       "True"
      ]
     },
     "execution_count": 32,
     "metadata": {},
     "output_type": "execute_result"
    }
   ],
   "source": [
    "# Write a python algorithm as function that verify if a key is present in given dictionary or note.\n",
    "dict1 = {'Name': 'Albert', 'Email': 'albert@gmail.com', 'Phone': 2225668877}\n",
    "\n",
    "def keys(key):\n",
    "    if key in dict1:\n",
    "        return True\n",
    "    else:\n",
    "        return False\n",
    "    \n",
    "keys('Email')"
   ]
  },
  {
   "cell_type": "code",
   "execution_count": 33,
   "metadata": {},
   "outputs": [
    {
     "data": {
      "text/plain": [
       "False"
      ]
     },
     "execution_count": 33,
     "metadata": {},
     "output_type": "execute_result"
    }
   ],
   "source": [
    "keys('age')"
   ]
  },
  {
   "cell_type": "code",
   "execution_count": 34,
   "metadata": {},
   "outputs": [
    {
     "name": "stdout",
     "output_type": "stream",
     "text": [
      "{'score1': 16, 'score2': 14, 'score3': 17, 'average': 15.666666666666666}\n"
     ]
    }
   ],
   "source": [
    "'''The following dictionary contains a student's math scores:\n",
    "scores = {'score1' : 16, 'score2' : 14, 'score3' : 17}\n",
    "update the notes dictionary by adding the average of scores.'''\n",
    "\n",
    "scores = {'score1' : 16, 'score2' : 14, 'score3' : 17}\n",
    "avg = 0\n",
    "for key,value in scores.items():\n",
    "    avg = avg + scores[key]\n",
    "avg = avg/3\n",
    "scores['average'] = avg\n",
    "\n",
    "print(scores)"
   ]
  },
  {
   "cell_type": "code",
   "execution_count": 36,
   "metadata": {},
   "outputs": [
    {
     "name": "stdout",
     "output_type": "stream",
     "text": [
      "{'student1': 16.0, 'students2': 14.666666666666666, 'student3': 15.0}\n"
     ]
    }
   ],
   "source": [
    "'''We cosider the following dictionary of length N containing the students names as keys and their score lists as\n",
    "key values:\n",
    "d = {'student1': listNote1, 'students2': listNotes2, ..., 'studentN': listNoteN}\n",
    "Write a Python program that transforms this dictionary by replacing the score lists with their averages. \n",
    "Example if\n",
    "d = {'student1': [14, 16, 18], 'students2': [12, 15, 17], 'student3': [16, 16, 13]}\n",
    ", the program returns:\n",
    "d = {'student1': 16.0, 'students2': 14.666666666666666, 'student3': 15.0}'''\n",
    "\n",
    "d = {'student1': [14, 16, 18], 'students2': [12, 15, 17], 'student3': [16, 16, 13]}\n",
    "def average(L):\n",
    "    avg = 0\n",
    "    n = len(L)\n",
    "    for i in L:\n",
    "        avg = i + avg\n",
    "    avg = avg/3\n",
    "    return avg\n",
    "\n",
    "for key in d:d[key] = average(d[key])\n",
    "print(d)"
   ]
  },
  {
   "cell_type": "code",
   "execution_count": 38,
   "metadata": {},
   "outputs": [
    {
     "ename": "SyntaxError",
     "evalue": "EOL while scanning string literal (<ipython-input-38-7c83ce455cd9>, line 14)",
     "output_type": "error",
     "traceback": [
      "\u001b[0;36m  File \u001b[0;32m\"<ipython-input-38-7c83ce455cd9>\"\u001b[0;36m, line \u001b[0;32m14\u001b[0m\n\u001b[0;31m    htmlContent = htmlContent + \"\u001b[0m\n\u001b[0m                                 ^\u001b[0m\n\u001b[0;31mSyntaxError\u001b[0m\u001b[0;31m:\u001b[0m EOL while scanning string literal\n"
     ]
    }
   ],
   "source": [
    "'''Write a python program that transforms a dictionary into an html table and saves the content to an html \n",
    "file called 'convert_dictionary.html'. Example f'or the dictionary:\n",
    "name_email = {'david': 'david@gmail.com', 'hafid': 'hafid@gmail.com', 'nathalie': 'nathalie@gmail.com', \n",
    "              'najib': 'najib @ gmail.com '}\n",
    "the program should create an html file that displays the content in an html table:'''\n",
    "\n",
    "import os\n",
    "name_email={'david':'david@gmail.com','hafid':'hafid@gmail.com','nathalie':'nathalie@gmail.com','najib':'najib@gmail.com'}\n",
    "htmlContent = \"\"\"\n",
    "\n",
    "\"\"\"\n",
    "for key , value in name_email.items():\n",
    "    htmlContent = htmlContent + \"\".format(key , value)\n",
    "htmlContent = htmlContent + \"\n",
    "\n",
    "\n",
    "Name\n",
    "Email\n",
    "\n",
    "\n",
    "{} {} \"\n",
    "file = open(\"convert_dictionary.html\" , 'w')\n",
    "file.write(htmlContent)\n",
    "file.close()\n",
    "os.startfile(\"convert_dictionary.html\")"
   ]
  },
  {
   "cell_type": "code",
   "execution_count": null,
   "metadata": {},
   "outputs": [],
   "source": []
  }
 ],
 "metadata": {
  "kernelspec": {
   "display_name": "Python 3",
   "language": "python",
   "name": "python3"
  },
  "language_info": {
   "codemirror_mode": {
    "name": "ipython",
    "version": 3
   },
   "file_extension": ".py",
   "mimetype": "text/x-python",
   "name": "python",
   "nbconvert_exporter": "python",
   "pygments_lexer": "ipython3",
   "version": "3.8.10"
  }
 },
 "nbformat": 4,
 "nbformat_minor": 4
}
