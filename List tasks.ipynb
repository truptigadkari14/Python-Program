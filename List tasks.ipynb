{
 "cells": [
  {
   "cell_type": "code",
   "execution_count": 2,
   "metadata": {},
   "outputs": [
    {
     "name": "stdout",
     "output_type": "stream",
     "text": [
      "[1, 2, 3, 4, 5, 6, 7, 8]\n"
     ]
    },
    {
     "data": {
      "text/plain": [
       "True"
      ]
     },
     "execution_count": 2,
     "metadata": {},
     "output_type": "execute_result"
    }
   ],
   "source": [
    "# 1. Check if a list contains an element\n",
    "lst = [1,2,3,4,5,6,7,8]\n",
    "print(lst)\n",
    "5 in lst"
   ]
  },
  {
   "cell_type": "code",
   "execution_count": 3,
   "metadata": {},
   "outputs": [
    {
     "name": "stdout",
     "output_type": "stream",
     "text": [
      "1 pune\n",
      "2 nagpur\n",
      "3 mumbai\n",
      "4 delhi\n"
     ]
    }
   ],
   "source": [
    "# 2. How to iterate over 2+ lists at the same time\n",
    "l1 = [1,2,3,4]\n",
    "l2 = ['pune','nagpur','mumbai','delhi']\n",
    "\n",
    "for (a,b) in zip(l1,l2):\n",
    "    print(a,b)"
   ]
  },
  {
   "cell_type": "code",
   "execution_count": 5,
   "metadata": {},
   "outputs": [
    {
     "name": "stdout",
     "output_type": "stream",
     "text": [
      "I have done travelling\n",
      "1\n"
     ]
    }
   ],
   "source": [
    "# 3. When would you use a list vs dictionary?\n",
    "# list : it is need to store the order of something.\n",
    "l = [1,2,3,4,5]\n",
    "\n",
    "# Dictionary : count the occurence of something.\n",
    "dt = {'trupti':1,'srushti':2,'kajal':3}"
   ]
  },
  {
   "cell_type": "code",
   "execution_count": 7,
   "metadata": {},
   "outputs": [
    {
     "name": "stdout",
     "output_type": "stream",
     "text": [
      "[1, 2, 'dss', 4, 'fdd']\n",
      "139776223591744\n",
      "[1, 2, 'dss', 4, 'fdd', 5, 'fsd', 5]\n",
      "139776223591744\n"
     ]
    }
   ],
   "source": [
    "# 4. Is a list mutable? If yes,prove.\n",
    "l1 = [1,2,3,'gfd','fdd']\n",
    "\n",
    "l1[3]=4\n",
    "l1[2]='dss'\n",
    "print(l1)\n",
    "print(id(l1))\n",
    "\n",
    "l1.append(5)\n",
    "l1.extend(['fsd',5])\n",
    "print(l1)\n",
    "print(id(l1))"
   ]
  },
  {
   "cell_type": "code",
   "execution_count": 8,
   "metadata": {},
   "outputs": [
    {
     "data": {
      "text/plain": [
       "[1, 5.0, 'trf', 0, []]"
      ]
     },
     "execution_count": 8,
     "metadata": {},
     "output_type": "execute_result"
    }
   ],
   "source": [
    "# 5. Does a list need to be homogeneous?\n",
    "l1 = [1,5.0,'trf',0,[]]\n",
    "l1"
   ]
  },
  {
   "cell_type": "code",
   "execution_count": 21,
   "metadata": {},
   "outputs": [
    {
     "name": "stdout",
     "output_type": "stream",
     "text": [
      "[1, 2, 5, 6, 8, 3, 4, 5]\n"
     ]
    }
   ],
   "source": [
    "# 6. What is the difference between append and extend?\n",
    "l1 = [1,2,5,6]\n",
    "\n",
    "l1.append(8)\n",
    "l1.extend([3,4,5])\n",
    "print(l1)"
   ]
  },
  {
   "cell_type": "code",
   "execution_count": 10,
   "metadata": {},
   "outputs": [
    {
     "name": "stdout",
     "output_type": "stream",
     "text": [
      "139776257683056\n",
      "139776223591680\n",
      "139776294577200\n"
     ]
    }
   ],
   "source": [
    "# 7. Do python lists store values or pointers?\n",
    "l1 = 'trupti'\n",
    "print(id(l1))\n",
    "\n",
    "l2 = [4,5,6]\n",
    "print(id(l2))\n",
    "print(id(l1[0]))"
   ]
  },
  {
   "cell_type": "code",
   "execution_count": 11,
   "metadata": {},
   "outputs": [
    {
     "name": "stdout",
     "output_type": "stream",
     "text": [
      "[1, 2, 4, 5]\n"
     ]
    }
   ],
   "source": [
    "# 8. What does “del” do?\n",
    "l1 = [1,2,3,4,5]\n",
    "del(l1[2])\n",
    "print(l1)"
   ]
  },
  {
   "cell_type": "code",
   "execution_count": 32,
   "metadata": {},
   "outputs": [
    {
     "name": "stdout",
     "output_type": "stream",
     "text": [
      "[1, 2, 4, 5]\n",
      "[1, 2, 5]\n"
     ]
    }
   ],
   "source": [
    "# 9. What is the difference between “remove” and “pop”?\n",
    "l1 = [1,2,3,4,5]\n",
    "l1.remove(3)  # it remove the selected element\n",
    "print(l1)\n",
    "l1.pop(2) # it remove the index\n",
    "print(l1)"
   ]
  },
  {
   "cell_type": "code",
   "execution_count": 39,
   "metadata": {},
   "outputs": [
    {
     "name": "stdout",
     "output_type": "stream",
     "text": [
      "[1, 2, 3, 4, 5]\n"
     ]
    }
   ],
   "source": [
    "# 10. Remove duplicates from a list\n",
    "l1 = [1,2,3,4,5,2,3,4]\n",
    "l2 = []\n",
    "for i in l1:\n",
    "    if i not in l2:\n",
    "        l2.append(i)\n",
    "    \n",
    "print(l2)"
   ]
  },
  {
   "cell_type": "code",
   "execution_count": 12,
   "metadata": {},
   "outputs": [
    {
     "data": {
      "text/plain": [
       "2"
      ]
     },
     "execution_count": 12,
     "metadata": {},
     "output_type": "execute_result"
    }
   ],
   "source": [
    "# 11. Find the index of the 1st matching element\n",
    "l1 = [1,2,3,4,5,2,3]\n",
    "l1.index(3)"
   ]
  },
  {
   "cell_type": "code",
   "execution_count": 15,
   "metadata": {},
   "outputs": [
    {
     "name": "stdout",
     "output_type": "stream",
     "text": [
      "[]\n",
      "[]\n"
     ]
    }
   ],
   "source": [
    "# 12. Remove all elements from a list\n",
    "l1 = [1,2,3,4,5,6]\n",
    "l1.clear()\n",
    "print(l1)\n",
    "\n",
    "l2 = ['tr','fds']\n",
    "del l2[:]\n",
    "print(l2)"
   ]
  },
  {
   "cell_type": "code",
   "execution_count": 18,
   "metadata": {},
   "outputs": [
    {
     "name": "stdout",
     "output_type": "stream",
     "text": [
      "0 : 1\n",
      "1 : 2\n",
      "2 : 3\n",
      "3 : 4\n",
      "4 : 5\n",
      "5 : 6\n"
     ]
    }
   ],
   "source": [
    "# 13. Iterate over both the values in a list and their indices\n",
    "l1 = [1,2,3,4,5,6]\n",
    "\n",
    "for i,val in enumerate(l1):\n",
    "    print(\"%s : %s\"%(i,val))"
   ]
  },
  {
   "cell_type": "code",
   "execution_count": 60,
   "metadata": {},
   "outputs": [
    {
     "name": "stdout",
     "output_type": "stream",
     "text": [
      "[10, 20, 30, 40, 101, 102, 103, 104]\n"
     ]
    }
   ],
   "source": [
    "# 14. How to concatenate two lists\n",
    "l1 = [10,20,30,40]\n",
    "l2 = [101,102,103,104]\n",
    "\n",
    "l3 = l1+l2\n",
    "    \n",
    "print(str(l3))"
   ]
  },
  {
   "cell_type": "code",
   "execution_count": 19,
   "metadata": {},
   "outputs": [
    {
     "name": "stdout",
     "output_type": "stream",
     "text": [
      "[20, 40, 60, 80, 100, 120]\n"
     ]
    }
   ],
   "source": [
    "# 15. How to manipulate every element in a list with list comprehension\n",
    "l1 = [10,20,30,40,50,60]\n",
    "l2 = [x*2 for x in l1]\n",
    "print(l2)"
   ]
  },
  {
   "cell_type": "code",
   "execution_count": 65,
   "metadata": {},
   "outputs": [
    {
     "data": {
      "text/plain": [
       "3"
      ]
     },
     "execution_count": 65,
     "metadata": {},
     "output_type": "execute_result"
    }
   ],
   "source": [
    "# 16. Count the occurrence of a specific object in a list\n",
    "l1 = [10,20,30,40,20,10,20]\n",
    "l1.count(20)"
   ]
  },
  {
   "cell_type": "code",
   "execution_count": 24,
   "metadata": {},
   "outputs": [
    {
     "name": "stdout",
     "output_type": "stream",
     "text": [
      "[10, 20, 30, 40, 20, 50]\n",
      "[10, 20, 40, 20, 50]\n"
     ]
    }
   ],
   "source": [
    "# 17. How to shallow copy a list?\n",
    "l1 = [10,20,30,40,20,50]\n",
    "print(l1)\n",
    "l2 = l1.copy()\n",
    "l2.remove(30)\n",
    "print(l2)\n",
    "\n",
    "import copy\n",
    "#l2 = copy.copy(l1)\n",
    "#print(l2)"
   ]
  },
  {
   "cell_type": "code",
   "execution_count": 70,
   "metadata": {},
   "outputs": [
    {
     "name": "stdout",
     "output_type": "stream",
     "text": [
      "[10, 20, 30, 50, 20]\n"
     ]
    }
   ],
   "source": [
    "# 18. Why create a shallow copy of a list?\n",
    "l1 = [10,20,30,50,20]\n",
    "l2 = l1.copy(l2)\n",
    "print(l1)"
   ]
  },
  {
   "cell_type": "code",
   "execution_count": 28,
   "metadata": {},
   "outputs": [
    {
     "name": "stdout",
     "output_type": "stream",
     "text": [
      "[[11, 32], 55, 63, 76]\n",
      "[[25, 32], 55, 63, 76]\n"
     ]
    }
   ],
   "source": [
    "# 19. How to deep copy a list?\n",
    "l1 = [[11,32],55,63,76]\n",
    "print(l1)\n",
    "l2 = copy.deepcopy(l1)\n",
    "l2[0][0]=25\n",
    "print(l2)"
   ]
  },
  {
   "cell_type": "code",
   "execution_count": 30,
   "metadata": {},
   "outputs": [
    {
     "name": "stdout",
     "output_type": "stream",
     "text": [
      "[[54, 34], 67, 52, 36]\n",
      "[[54, 59], 67, 52, 36]\n",
      "[[54, 34], 67, 52, 36]\n",
      "[[54, 59], 67, 52, 36]\n"
     ]
    }
   ],
   "source": [
    "# 20. What is the difference between a deep copy and a shallow copy?\n",
    "# shallow copy : does not create new object in memory\n",
    "l1 = [[54,34],67,52,36]\n",
    "print(l1)\n",
    "l2 = copy.copy(l1)\n",
    "l2[0][1]=59\n",
    "print(l2)\n",
    "\n",
    "# deep copy : create copies of original objects\n",
    "l1 = [[54,34],67,52,36]\n",
    "print(l1)\n",
    "l2 = copy.deepcopy(l1)\n",
    "l2[0][1]=59\n",
    "print(l2)"
   ]
  },
  {
   "cell_type": "code",
   "execution_count": 31,
   "metadata": {},
   "outputs": [
    {
     "name": "stdout",
     "output_type": "stream",
     "text": [
      "['trupti']\n",
      "('trupti',)\n"
     ]
    }
   ],
   "source": [
    "# 21. What is the difference between a list and a tuple.\n",
    "# list is a mutable and tuple is a immutable.\n",
    "l1 = ['trupti']\n",
    "print(l1)\n",
    "\n",
    "t = ('trupti',)\n",
    "print(t)"
   ]
  },
  {
   "cell_type": "code",
   "execution_count": 76,
   "metadata": {},
   "outputs": [
    {
     "name": "stdout",
     "output_type": "stream",
     "text": [
      "Length of list is : 7\n"
     ]
    }
   ],
   "source": [
    "# 22. Return the length of a list\n",
    "l1 = [3,4,5,6,7,2,1]\n",
    "print(\"Length of list is :\",len(l1))"
   ]
  },
  {
   "cell_type": "code",
   "execution_count": 79,
   "metadata": {},
   "outputs": [
    {
     "name": "stdout",
     "output_type": "stream",
     "text": [
      "[32, 4, 5, 67, 4]\n",
      "{3, 4, 5, 6}\n"
     ]
    }
   ],
   "source": [
    "# 23. What is the difference between a list and a set?\n",
    "l1 = [32,4,5,67,4]  # list is contain duplicate value\n",
    "print(l1)\n",
    "\n",
    "s = {3,4,5,6,4}  # set does not contain any duplicate value\n",
    "print(s)"
   ]
  },
  {
   "cell_type": "code",
   "execution_count": 33,
   "metadata": {},
   "outputs": [
    {
     "data": {
      "text/plain": [
       "False"
      ]
     },
     "execution_count": 33,
     "metadata": {},
     "output_type": "execute_result"
    }
   ],
   "source": [
    "# 24. How to check if an element is not in a list?\n",
    "l1 = [2,3,4,5,6]\n",
    "6 not in l1"
   ]
  },
  {
   "cell_type": "code",
   "execution_count": 89,
   "metadata": {},
   "outputs": [
    {
     "name": "stdout",
     "output_type": "stream",
     "text": [
      "[10, 15, 20, 25, 30, 35]\n"
     ]
    }
   ],
   "source": [
    "# 25. Multiply every element in a list by 5 with the map function\n",
    "l1 = [2,3,4,5,6,7]\n",
    "l2 = list(map(lambda x : x*5 , l1))\n",
    "print(l2)"
   ]
  },
  {
   "cell_type": "code",
   "execution_count": 94,
   "metadata": {},
   "outputs": [
    {
     "name": "stdout",
     "output_type": "stream",
     "text": [
      "[(3, 8), (4, 9), (5, 1), (6, 2), (7, 3)]\n"
     ]
    }
   ],
   "source": [
    "# 26. Combine 2 lists into a list of tuples with the zip function\n",
    "l1 = [3,4,5,6,7]\n",
    "l2 = [8,9,1,2,3]\n",
    "l3 = list(zip(l1,l2))\n",
    "print(l3)"
   ]
  },
  {
   "cell_type": "code",
   "execution_count": 98,
   "metadata": {},
   "outputs": [
    {
     "name": "stdout",
     "output_type": "stream",
     "text": [
      "['df', 'gre', 'edd', 'tred', 'res']\n"
     ]
    }
   ],
   "source": [
    "# 27. Insert a value at a specific index in an existing list\n",
    "l1 = ['df','gre','tred','res']\n",
    "l1.insert(2,'edd')\n",
    "print(l1)"
   ]
  },
  {
   "cell_type": "code",
   "execution_count": 34,
   "metadata": {},
   "outputs": [
    {
     "data": {
      "text/plain": [
       "64"
      ]
     },
     "execution_count": 34,
     "metadata": {},
     "output_type": "execute_result"
    }
   ],
   "source": [
    "# 28. Subtract values in a list from the first element with the reduce function\n",
    "from functools import reduce\n",
    "def subtract(a,b):\n",
    "    return a-b\n",
    "\n",
    "l1 = [90,4,5,6,8,3]\n",
    "reduce(subtract,l1)"
   ]
  },
  {
   "cell_type": "code",
   "execution_count": 35,
   "metadata": {},
   "outputs": [
    {
     "name": "stdout",
     "output_type": "stream",
     "text": [
      "[3, 6, 4, 9]\n"
     ]
    }
   ],
   "source": [
    "# 29. Remove negative values from a list with the filter function\n",
    "l1 = [3,-4,-2,6,4,-7,9]\n",
    "l2 = list(filter(lambda x : x>=0 ,l1))\n",
    "print(l2)"
   ]
  },
  {
   "cell_type": "code",
   "execution_count": 105,
   "metadata": {},
   "outputs": [
    {
     "name": "stdout",
     "output_type": "stream",
     "text": [
      "{'trupti': 'pass', 'srushti': 'pass', 'kajal': 'pass'}\n"
     ]
    }
   ],
   "source": [
    "# 30. Convert a list into a dictionary where list elements are keys\n",
    "l1 = ['trupti','srushti','kajal']\n",
    "d = {i : 'pass' for i in l1}\n",
    "print(d)"
   ]
  },
  {
   "cell_type": "code",
   "execution_count": 36,
   "metadata": {},
   "outputs": [
    {
     "name": "stdout",
     "output_type": "stream",
     "text": [
      "[7, 8, 9, 10, 11, 12]\n"
     ]
    }
   ],
   "source": [
    "# 31. Modify an existing list with a lambda function\n",
    "l1 = [2,3,4,5,6,7]\n",
    "l2 = list(map(lambda x : x+5 ,l1))\n",
    "print(l2)"
   ]
  },
  {
   "cell_type": "code",
   "execution_count": 37,
   "metadata": {},
   "outputs": [
    {
     "data": {
      "text/plain": [
       "[3, 4, 5, 6, 7, 8]"
      ]
     },
     "execution_count": 37,
     "metadata": {},
     "output_type": "execute_result"
    }
   ],
   "source": [
    "# 32. Remove elements in a list after a specific index\n",
    "l1 = [3,4,5,6,7,8,9,3,4,5]\n",
    "l1[:6]"
   ]
  },
  {
   "cell_type": "code",
   "execution_count": 40,
   "metadata": {},
   "outputs": [
    {
     "data": {
      "text/plain": [
       "[6, 7, 2]"
      ]
     },
     "execution_count": 40,
     "metadata": {},
     "output_type": "execute_result"
    }
   ],
   "source": [
    "# 33. Remove elements in a list before a specific index\n",
    "l1 = [4,5,6,7,8,9,5,6,7,2]\n",
    "l1[7:]"
   ]
  },
  {
   "cell_type": "code",
   "execution_count": 41,
   "metadata": {},
   "outputs": [
    {
     "data": {
      "text/plain": [
       "[8, 9, 3, 4]"
      ]
     },
     "execution_count": 41,
     "metadata": {},
     "output_type": "execute_result"
    }
   ],
   "source": [
    "# 34. Remove elements in a list between 2 indices\n",
    "l1 = [4,5,6,7,8,9,3,4,5,2]\n",
    "l1[4:8]"
   ]
  },
  {
   "cell_type": "code",
   "execution_count": 44,
   "metadata": {},
   "outputs": [
    {
     "data": {
      "text/plain": [
       "[5, 7, 9]"
      ]
     },
     "execution_count": 44,
     "metadata": {},
     "output_type": "execute_result"
    }
   ],
   "source": [
    "# 35. Return every 2nd element in a list between 2 indices\n",
    "l1 = [2,3,4,5,6,7,8,9,4,5,6]\n",
    "l1[3:9:2]"
   ]
  },
  {
   "cell_type": "code",
   "execution_count": 112,
   "metadata": {},
   "outputs": [
    {
     "name": "stdout",
     "output_type": "stream",
     "text": [
      "[2, 3, 4, 5, 7, 8]\n"
     ]
    }
   ],
   "source": [
    "# 36. Sort a list of integers in ascending order\n",
    "l1 = [3,7,4,5,8,2]\n",
    "l1.sort()\n",
    "print(l1)"
   ]
  },
  {
   "cell_type": "code",
   "execution_count": 45,
   "metadata": {},
   "outputs": [
    {
     "name": "stdout",
     "output_type": "stream",
     "text": [
      "[9, 7, 6, 4, 3, 2, 1]\n"
     ]
    },
    {
     "data": {
      "text/plain": [
       "[9, 7, 6, 4, 3, 2, 1]"
      ]
     },
     "execution_count": 45,
     "metadata": {},
     "output_type": "execute_result"
    }
   ],
   "source": [
    "# 37. Sort a list of integers in descending order\n",
    "l1 = [3,4,7,2,1,9,6]\n",
    "l1.sort()\n",
    "l1.reverse()\n",
    "print(l1)\n",
    "\n",
    "#l1.sort(reverse=True)"
   ]
  },
  {
   "cell_type": "code",
   "execution_count": 53,
   "metadata": {},
   "outputs": [
    {
     "name": "stdout",
     "output_type": "stream",
     "text": [
      "[0, 2, 4, 6, 8, 10, 12, 14, 16, 18]\n"
     ]
    }
   ],
   "source": [
    "# 38. Filter even values out of a list with list comprehension\n",
    "l1 = [i for i in range(20) if i%2==0]\n",
    "print(l1)"
   ]
  },
  {
   "cell_type": "code",
   "execution_count": 55,
   "metadata": {},
   "outputs": [
    {
     "data": {
      "text/plain": [
       "Counter({3: 3, 4: 1, 2: 3, 6: 1})"
      ]
     },
     "execution_count": 55,
     "metadata": {},
     "output_type": "execute_result"
    }
   ],
   "source": [
    "# 39. Count occurrences of each value in a list\n",
    "from collections import Counter\n",
    "l1 = [3,4,2,3,6,2,3,2]\n",
    "Counter(l1)"
   ]
  },
  {
   "cell_type": "code",
   "execution_count": 57,
   "metadata": {},
   "outputs": [
    {
     "name": "stdout",
     "output_type": "stream",
     "text": [
      "[3, 6, 6, 8]\n"
     ]
    }
   ],
   "source": [
    "# 40. Get the first element from each nested list in a list\n",
    "l1 = [[1,3,4],[5,6],[7,6,8],[5,8]]\n",
    "l2 = [i[1] for i in l1]\n",
    "print(l2)"
   ]
  },
  {
   "cell_type": "code",
   "execution_count": 67,
   "metadata": {},
   "outputs": [
    {
     "name": "stdout",
     "output_type": "stream",
     "text": [
      "[2, 3, 7, 4, 5, 6]\n",
      "4\n",
      "[2, 3, 7, 4, 6]\n"
     ]
    }
   ],
   "source": [
    "# 41. What is the time complexity of insert, find and delete for a list?\n",
    "# insert O(n): element insert at the begining, other elements must be shifted right.\n",
    "l1 = [2,3,4,5,6]\n",
    "l1.insert(2,7)\n",
    "print(l1)\n",
    "\n",
    "# find O(1): find by value is O(n) because elements need to be iterated over until the value is found.\n",
    "print(l1[3])\n",
    "\n",
    "# delete O(n): element is deleted at the begining, all other elements must to be shifted left.\n",
    "l1.remove(5)\n",
    "print(l1)"
   ]
  },
  {
   "cell_type": "code",
   "execution_count": 68,
   "metadata": {},
   "outputs": [
    {
     "name": "stdout",
     "output_type": "stream",
     "text": [
      "welcome to python\n"
     ]
    }
   ],
   "source": [
    "# 42. Combine elements in a list into a single string.\n",
    "l1 = ['welcome','to','python']\n",
    "print(\" \".join(l1))"
   ]
  },
  {
   "cell_type": "code",
   "execution_count": 74,
   "metadata": {},
   "outputs": [
    {
     "name": "stdout",
     "output_type": "stream",
     "text": [
      "['a', 'b', 'c', 'a', 'b', 'c', 'a', 'b', 'c']\n"
     ]
    }
   ],
   "source": [
    "# 43. What’s the affect of multiplying a list by an integer?\n",
    "l1 = ['a','b','c']\n",
    "print(l1*3)"
   ]
  },
  {
   "cell_type": "code",
   "execution_count": 76,
   "metadata": {},
   "outputs": [
    {
     "name": "stdout",
     "output_type": "stream",
     "text": [
      "True\n",
      "False\n"
     ]
    }
   ],
   "source": [
    "# 44. Use the “any” function to return True if any value in a list is divisible by 2\n",
    "l1 = [1,2,3,4]\n",
    "l2 = [1,3,5]\n",
    "print(any(i%2==0 for i in l1))\n",
    "print(any(i%2==0 for i in l2))"
   ]
  },
  {
   "cell_type": "code",
   "execution_count": 77,
   "metadata": {},
   "outputs": [
    {
     "name": "stdout",
     "output_type": "stream",
     "text": [
      "False\n",
      "True\n"
     ]
    }
   ],
   "source": [
    "# 45. Use the “all” function to return True if all values in a list are negative\n",
    "l1 = [1,3,2,9]\n",
    "l2 = [3,6,9]\n",
    "print(all(i%3==0 for i in l1))\n",
    "print(all(i%3==0 for i in l2))"
   ]
  },
  {
   "cell_type": "code",
   "execution_count": 79,
   "metadata": {},
   "outputs": [
    {
     "ename": "TypeError",
     "evalue": "'<' not supported between instances of 'NoneType' and 'int'",
     "output_type": "error",
     "traceback": [
      "\u001b[0;31m---------------------------------------------------------------------------\u001b[0m",
      "\u001b[0;31mTypeError\u001b[0m                                 Traceback (most recent call last)",
      "\u001b[0;32m<ipython-input-79-18fb4dceac68>\u001b[0m in \u001b[0;36m<module>\u001b[0;34m\u001b[0m\n\u001b[1;32m      1\u001b[0m \u001b[0;31m# 46. Can you sort a list with “None” in it?\u001b[0m\u001b[0;34m\u001b[0m\u001b[0;34m\u001b[0m\u001b[0;34m\u001b[0m\u001b[0m\n\u001b[1;32m      2\u001b[0m \u001b[0ml1\u001b[0m \u001b[0;34m=\u001b[0m \u001b[0;34m[\u001b[0m\u001b[0;36m3\u001b[0m\u001b[0;34m,\u001b[0m\u001b[0;36m5\u001b[0m\u001b[0;34m,\u001b[0m\u001b[0;36m7\u001b[0m\u001b[0;34m,\u001b[0m\u001b[0;36m8\u001b[0m\u001b[0;34m,\u001b[0m\u001b[0;36m6\u001b[0m\u001b[0;34m,\u001b[0m\u001b[0;36m4\u001b[0m\u001b[0;34m,\u001b[0m\u001b[0;32mNone\u001b[0m\u001b[0;34m]\u001b[0m\u001b[0;34m\u001b[0m\u001b[0;34m\u001b[0m\u001b[0m\n\u001b[0;32m----> 3\u001b[0;31m \u001b[0ml1\u001b[0m\u001b[0;34m.\u001b[0m\u001b[0msort\u001b[0m\u001b[0;34m(\u001b[0m\u001b[0;34m)\u001b[0m\u001b[0;34m\u001b[0m\u001b[0;34m\u001b[0m\u001b[0m\n\u001b[0m\u001b[1;32m      4\u001b[0m \u001b[0mprint\u001b[0m\u001b[0;34m(\u001b[0m\u001b[0ml1\u001b[0m\u001b[0;34m)\u001b[0m\u001b[0;34m\u001b[0m\u001b[0;34m\u001b[0m\u001b[0m\n",
      "\u001b[0;31mTypeError\u001b[0m: '<' not supported between instances of 'NoneType' and 'int'"
     ]
    }
   ],
   "source": [
    "# 46. Can you sort a list with “None” in it?\n",
    "l1 = [3,5,7,8,6,4,None]\n",
    "l1.sort()\n",
    "print(l1)"
   ]
  },
  {
   "cell_type": "code",
   "execution_count": 83,
   "metadata": {},
   "outputs": [
    {
     "name": "stdout",
     "output_type": "stream",
     "text": [
      "['a', 'b', 'c']\n",
      "['a', 'b', 'c', 'd', 'd', 'd', 'd']\n"
     ]
    }
   ],
   "source": [
    "# 47. What kind of copy would the list constructor create from an existing list?\n",
    "l1 = ['a','b','c']\n",
    "print(l1)\n",
    "l2.append('d')\n",
    "print(l2)"
   ]
  },
  {
   "cell_type": "code",
   "execution_count": 84,
   "metadata": {},
   "outputs": [
    {
     "name": "stdout",
     "output_type": "stream",
     "text": [
      "[1, 2, 9, 8, 7, 6, 5, 4]\n"
     ]
    }
   ],
   "source": [
    "# 48. Reverse the order of a list\n",
    "l1 = [4,5,6,7,8,9,2,1]\n",
    "l1.reverse()\n",
    "print(l1)"
   ]
  },
  {
   "cell_type": "code",
   "execution_count": 90,
   "metadata": {},
   "outputs": [
    {
     "name": "stdout",
     "output_type": "stream",
     "text": [
      "[9, 4, 3, 8, 7, 6, 5]\n",
      "[5, 6, 7, 8, 3, 4, 9]\n"
     ]
    }
   ],
   "source": [
    "# 49. What is the difference between reverse and reversed?\n",
    "l1 = [5,6,7,8,3,4,9]\n",
    "l1.reverse()               # reverse the list\n",
    "print(l1)\n",
    "print(list(reversed(l1)))  # return iterable of list in reverse order"
   ]
  },
  {
   "cell_type": "code",
   "execution_count": 93,
   "metadata": {},
   "outputs": [
    {
     "name": "stdout",
     "output_type": "stream",
     "text": [
      "[2, 3, 4, 5, 6, 7, 8, 9]\n",
      "[2, 3, 4, 5, 6, 7, 8, 9]\n"
     ]
    }
   ],
   "source": [
    "# 50. What is the difference between sort and sorted?\n",
    "l1 = [2,3,4,5,6,7,8,9]\n",
    "l1.sort()                  # modifies the list\n",
    "print(l1)\n",
    "print(sorted(l1))          # return a new list in reverse order "
   ]
  },
  {
   "cell_type": "code",
   "execution_count": 95,
   "metadata": {},
   "outputs": [
    {
     "name": "stdout",
     "output_type": "stream",
     "text": [
      "2\n"
     ]
    }
   ],
   "source": [
    "# 51. Return the minimum value in a list\n",
    "l1 = [4,5,6,7,8,2]\n",
    "print(min(l1))"
   ]
  },
  {
   "cell_type": "code",
   "execution_count": 96,
   "metadata": {},
   "outputs": [
    {
     "name": "stdout",
     "output_type": "stream",
     "text": [
      "76\n"
     ]
    }
   ],
   "source": [
    "# 52. Return the maximum value in a list\n",
    "l1 = [3,5,4,56,35,76,23]\n",
    "print(max(l1))"
   ]
  },
  {
   "cell_type": "code",
   "execution_count": 97,
   "metadata": {},
   "outputs": [
    {
     "name": "stdout",
     "output_type": "stream",
     "text": [
      "35\n"
     ]
    }
   ],
   "source": [
    "# 53. Return the sum of values in a list\n",
    "l1 = [4,5,6,7,8,2,3]\n",
    "print(sum(l1))"
   ]
  },
  {
   "cell_type": "code",
   "execution_count": 99,
   "metadata": {},
   "outputs": [
    {
     "name": "stdout",
     "output_type": "stream",
     "text": [
      "[45, 65, 'trd']\n",
      "[45, 65]\n"
     ]
    }
   ],
   "source": [
    "# 54. Use a list as a stack\n",
    "l1 = []\n",
    "l1.append(45)\n",
    "l1.append(65)\n",
    "l1.append('trd')\n",
    "print(l1)\n",
    "l1.pop()\n",
    "print(l1)"
   ]
  },
  {
   "cell_type": "code",
   "execution_count": 100,
   "metadata": {},
   "outputs": [
    {
     "data": {
      "text/plain": [
       "{5, 6, 7}"
      ]
     },
     "execution_count": 100,
     "metadata": {},
     "output_type": "execute_result"
    }
   ],
   "source": [
    "# 55. Find the intersection of 2 lists\n",
    "l1 = [5,6,7,8]\n",
    "l2 = [7,4,5,6]\n",
    "set(l1) & set(l2)"
   ]
  },
  {
   "cell_type": "code",
   "execution_count": 102,
   "metadata": {},
   "outputs": [
    {
     "name": "stdout",
     "output_type": "stream",
     "text": [
      "{4, 5}\n",
      "{8, 9}\n"
     ]
    }
   ],
   "source": [
    "# 56. Find the difference between a set and another set\n",
    "l1 = [4,5,6,7]\n",
    "l2 = [6,7,8,9]\n",
    "print(set(l1) - set(l2))\n",
    "print(set(l2) - set(l1))"
   ]
  },
  {
   "cell_type": "code",
   "execution_count": 106,
   "metadata": {},
   "outputs": [
    {
     "name": "stdout",
     "output_type": "stream",
     "text": [
      "[5, 6, 3, 4, 2, 8]\n"
     ]
    }
   ],
   "source": [
    "# 57. Flatten a list of lists with a list comprehensions\n",
    "l1 = [[5,6,3],[4,2,8]]\n",
    "l2 = [i for j in l1 for i in j]\n",
    "print(l2)"
   ]
  },
  {
   "cell_type": "code",
   "execution_count": 109,
   "metadata": {},
   "outputs": [
    {
     "name": "stdout",
     "output_type": "stream",
     "text": [
      "[0, 1, 2, 3, 4, 5]\n"
     ]
    }
   ],
   "source": [
    "# 58. Generate a list of every integer between 2 values\n",
    "l1 = list(range(0,6))\n",
    "print(l1)"
   ]
  },
  {
   "cell_type": "code",
   "execution_count": 110,
   "metadata": {},
   "outputs": [
    {
     "name": "stdout",
     "output_type": "stream",
     "text": [
      "{'fds': 5, 'gfd': 6, 'utr': 7}\n"
     ]
    }
   ],
   "source": [
    "# 59. Combine 2 lists into a dictionary\n",
    "l1 = ['fds','gfd','utr']\n",
    "l2 = [5,6,7]\n",
    "l3 = dict(zip(l1,l2))\n",
    "print(l3)"
   ]
  },
  {
   "cell_type": "code",
   "execution_count": 112,
   "metadata": {},
   "outputs": [
    {
     "name": "stdout",
     "output_type": "stream",
     "text": [
      "[3, 8, 7, 5, 6]\n"
     ]
    }
   ],
   "source": [
    "# 60. Reverse the order of a list using the slice syntax\n",
    "l1 = [6,5,7,8,3]\n",
    "print(l1[::-1])"
   ]
  },
  {
   "cell_type": "code",
   "execution_count": null,
   "metadata": {},
   "outputs": [],
   "source": []
  }
 ],
 "metadata": {
  "kernelspec": {
   "display_name": "Python 3 (ipykernel)",
   "language": "python",
   "name": "python3"
  },
  "language_info": {
   "codemirror_mode": {
    "name": "ipython",
    "version": 3
   },
   "file_extension": ".py",
   "mimetype": "text/x-python",
   "name": "python",
   "nbconvert_exporter": "python",
   "pygments_lexer": "ipython3",
   "version": "3.9.7"
  }
 },
 "nbformat": 4,
 "nbformat_minor": 4
}
