{
 "cells": [
  {
   "cell_type": "code",
   "execution_count": 1,
   "id": "ca9ce78d",
   "metadata": {},
   "outputs": [],
   "source": [
    "import findspark \n",
    "findspark.init()"
   ]
  },
  {
   "cell_type": "code",
   "execution_count": 2,
   "id": "010c0bf0",
   "metadata": {},
   "outputs": [
    {
     "data": {
      "text/html": [
       "\n",
       "            <div>\n",
       "                <p><b>SparkSession - in-memory</b></p>\n",
       "                \n",
       "        <div>\n",
       "            <p><b>SparkContext</b></p>\n",
       "\n",
       "            <p><a href=\"http://DESKTOP-UA4TES7:4040\">Spark UI</a></p>\n",
       "\n",
       "            <dl>\n",
       "              <dt>Version</dt>\n",
       "                <dd><code>v3.2.1</code></dd>\n",
       "              <dt>Master</dt>\n",
       "                <dd><code>local[*]</code></dd>\n",
       "              <dt>AppName</dt>\n",
       "                <dd><code>ClusteringApp</code></dd>\n",
       "            </dl>\n",
       "        </div>\n",
       "        \n",
       "            </div>\n",
       "        "
      ],
      "text/plain": [
       "<pyspark.sql.session.SparkSession at 0x182452aebb0>"
      ]
     },
     "execution_count": 2,
     "metadata": {},
     "output_type": "execute_result"
    }
   ],
   "source": [
    "from pyspark.sql import SparkSession\n",
    "spark=SparkSession.builder.appName(\"ClusteringApp\").getOrCreate()\n",
    "spark"
   ]
  },
  {
   "cell_type": "code",
   "execution_count": 3,
   "id": "4f44efa6",
   "metadata": {},
   "outputs": [
    {
     "data": {
      "text/html": [
       "<div>\n",
       "<style scoped>\n",
       "    .dataframe tbody tr th:only-of-type {\n",
       "        vertical-align: middle;\n",
       "    }\n",
       "\n",
       "    .dataframe tbody tr th {\n",
       "        vertical-align: top;\n",
       "    }\n",
       "\n",
       "    .dataframe thead th {\n",
       "        text-align: right;\n",
       "    }\n",
       "</style>\n",
       "<table border=\"1\" class=\"dataframe\">\n",
       "  <thead>\n",
       "    <tr style=\"text-align: right;\">\n",
       "      <th></th>\n",
       "      <th>Survived</th>\n",
       "      <th>Pclass</th>\n",
       "      <th>Name</th>\n",
       "      <th>Sex</th>\n",
       "      <th>Age</th>\n",
       "      <th>SiblingsSpouses Aboard</th>\n",
       "      <th>ParentsChildren Aboard</th>\n",
       "      <th>Fare</th>\n",
       "    </tr>\n",
       "  </thead>\n",
       "  <tbody>\n",
       "    <tr>\n",
       "      <th>0</th>\n",
       "      <td>0</td>\n",
       "      <td>3</td>\n",
       "      <td>Mr. Owen Harris Braund</td>\n",
       "      <td>male</td>\n",
       "      <td>22.0</td>\n",
       "      <td>1</td>\n",
       "      <td>0</td>\n",
       "      <td>7.2500</td>\n",
       "    </tr>\n",
       "    <tr>\n",
       "      <th>1</th>\n",
       "      <td>1</td>\n",
       "      <td>1</td>\n",
       "      <td>Mrs. John Bradley (Florence Briggs Thayer) Cum...</td>\n",
       "      <td>female</td>\n",
       "      <td>38.0</td>\n",
       "      <td>1</td>\n",
       "      <td>0</td>\n",
       "      <td>71.2833</td>\n",
       "    </tr>\n",
       "    <tr>\n",
       "      <th>2</th>\n",
       "      <td>1</td>\n",
       "      <td>3</td>\n",
       "      <td>Miss. Laina Heikkinen</td>\n",
       "      <td>female</td>\n",
       "      <td>26.0</td>\n",
       "      <td>0</td>\n",
       "      <td>0</td>\n",
       "      <td>7.9250</td>\n",
       "    </tr>\n",
       "    <tr>\n",
       "      <th>3</th>\n",
       "      <td>1</td>\n",
       "      <td>1</td>\n",
       "      <td>Mrs. Jacques Heath (Lily May Peel) Futrelle</td>\n",
       "      <td>female</td>\n",
       "      <td>35.0</td>\n",
       "      <td>1</td>\n",
       "      <td>0</td>\n",
       "      <td>53.1000</td>\n",
       "    </tr>\n",
       "    <tr>\n",
       "      <th>4</th>\n",
       "      <td>0</td>\n",
       "      <td>3</td>\n",
       "      <td>Mr. William Henry Allen</td>\n",
       "      <td>male</td>\n",
       "      <td>35.0</td>\n",
       "      <td>0</td>\n",
       "      <td>0</td>\n",
       "      <td>8.0500</td>\n",
       "    </tr>\n",
       "    <tr>\n",
       "      <th>...</th>\n",
       "      <td>...</td>\n",
       "      <td>...</td>\n",
       "      <td>...</td>\n",
       "      <td>...</td>\n",
       "      <td>...</td>\n",
       "      <td>...</td>\n",
       "      <td>...</td>\n",
       "      <td>...</td>\n",
       "    </tr>\n",
       "    <tr>\n",
       "      <th>882</th>\n",
       "      <td>0</td>\n",
       "      <td>2</td>\n",
       "      <td>Rev. Juozas Montvila</td>\n",
       "      <td>male</td>\n",
       "      <td>27.0</td>\n",
       "      <td>0</td>\n",
       "      <td>0</td>\n",
       "      <td>13.0000</td>\n",
       "    </tr>\n",
       "    <tr>\n",
       "      <th>883</th>\n",
       "      <td>1</td>\n",
       "      <td>1</td>\n",
       "      <td>Miss. Margaret Edith Graham</td>\n",
       "      <td>female</td>\n",
       "      <td>19.0</td>\n",
       "      <td>0</td>\n",
       "      <td>0</td>\n",
       "      <td>30.0000</td>\n",
       "    </tr>\n",
       "    <tr>\n",
       "      <th>884</th>\n",
       "      <td>0</td>\n",
       "      <td>3</td>\n",
       "      <td>Miss. Catherine Helen Johnston</td>\n",
       "      <td>female</td>\n",
       "      <td>7.0</td>\n",
       "      <td>1</td>\n",
       "      <td>2</td>\n",
       "      <td>23.4500</td>\n",
       "    </tr>\n",
       "    <tr>\n",
       "      <th>885</th>\n",
       "      <td>1</td>\n",
       "      <td>1</td>\n",
       "      <td>Mr. Karl Howell Behr</td>\n",
       "      <td>male</td>\n",
       "      <td>26.0</td>\n",
       "      <td>0</td>\n",
       "      <td>0</td>\n",
       "      <td>30.0000</td>\n",
       "    </tr>\n",
       "    <tr>\n",
       "      <th>886</th>\n",
       "      <td>0</td>\n",
       "      <td>3</td>\n",
       "      <td>Mr. Patrick Dooley</td>\n",
       "      <td>male</td>\n",
       "      <td>32.0</td>\n",
       "      <td>0</td>\n",
       "      <td>0</td>\n",
       "      <td>7.7500</td>\n",
       "    </tr>\n",
       "  </tbody>\n",
       "</table>\n",
       "<p>887 rows × 8 columns</p>\n",
       "</div>"
      ],
      "text/plain": [
       "     Survived  Pclass                                               Name  \\\n",
       "0           0       3                             Mr. Owen Harris Braund   \n",
       "1           1       1  Mrs. John Bradley (Florence Briggs Thayer) Cum...   \n",
       "2           1       3                              Miss. Laina Heikkinen   \n",
       "3           1       1        Mrs. Jacques Heath (Lily May Peel) Futrelle   \n",
       "4           0       3                            Mr. William Henry Allen   \n",
       "..        ...     ...                                                ...   \n",
       "882         0       2                               Rev. Juozas Montvila   \n",
       "883         1       1                        Miss. Margaret Edith Graham   \n",
       "884         0       3                     Miss. Catherine Helen Johnston   \n",
       "885         1       1                               Mr. Karl Howell Behr   \n",
       "886         0       3                                 Mr. Patrick Dooley   \n",
       "\n",
       "        Sex   Age  SiblingsSpouses Aboard  ParentsChildren Aboard     Fare  \n",
       "0      male  22.0                       1                       0   7.2500  \n",
       "1    female  38.0                       1                       0  71.2833  \n",
       "2    female  26.0                       0                       0   7.9250  \n",
       "3    female  35.0                       1                       0  53.1000  \n",
       "4      male  35.0                       0                       0   8.0500  \n",
       "..      ...   ...                     ...                     ...      ...  \n",
       "882    male  27.0                       0                       0  13.0000  \n",
       "883  female  19.0                       0                       0  30.0000  \n",
       "884  female   7.0                       1                       2  23.4500  \n",
       "885    male  26.0                       0                       0  30.0000  \n",
       "886    male  32.0                       0                       0   7.7500  \n",
       "\n",
       "[887 rows x 8 columns]"
      ]
     },
     "execution_count": 3,
     "metadata": {},
     "output_type": "execute_result"
    }
   ],
   "source": [
    "df=spark.read.option(\"header\",\"true\").csv('D:\\\\titanic.csv',inferSchema=True)\n",
    "df.toPandas()"
   ]
  },
  {
   "cell_type": "code",
   "execution_count": 4,
   "id": "0b26c8de",
   "metadata": {},
   "outputs": [
    {
     "name": "stdout",
     "output_type": "stream",
     "text": [
      "root\n",
      " |-- Survived: integer (nullable = true)\n",
      " |-- Pclass: integer (nullable = true)\n",
      " |-- Name: string (nullable = true)\n",
      " |-- Sex: string (nullable = true)\n",
      " |-- Age: double (nullable = true)\n",
      " |-- SiblingsSpouses Aboard: integer (nullable = true)\n",
      " |-- ParentsChildren Aboard: integer (nullable = true)\n",
      " |-- Fare: double (nullable = true)\n",
      "\n"
     ]
    }
   ],
   "source": [
    "df.printSchema()"
   ]
  },
  {
   "cell_type": "code",
   "execution_count": 6,
   "id": "e6741815",
   "metadata": {},
   "outputs": [],
   "source": [
    "from pyspark.sql.functions import *\n",
    "from pyspark.sql.types import *"
   ]
  },
  {
   "cell_type": "code",
   "execution_count": 7,
   "id": "8abb56a4",
   "metadata": {},
   "outputs": [
    {
     "name": "stdout",
     "output_type": "stream",
     "text": [
      "Null COlumns calc list  []\n"
     ]
    }
   ],
   "source": [
    "def null_value_calc(df):\n",
    "    null_columns_counts = []\n",
    "    numRows = df.count()\n",
    "    for k in df.columns:\n",
    "        nullRows = df.where(col(k).isNull()).count()\n",
    "        if(nullRows > 0):\n",
    "            temp = k,nullRows,(nullRows/numRows)*100\n",
    "            null_columns_counts.append(temp)\n",
    "    return(null_columns_counts)\n",
    "\n",
    "null_columns_calc_list = null_value_calc(df)\n",
    "print(\"Null COlumns calc list \" ,null_columns_calc_list)\n",
    "#schema = StructType([StructField(\"M1\", IntegerType(), True),StructField(\"M2\", IntegerType(), True),StructField(\"M3\", IntegerType(), True)])\n",
    "#spark.createDataFrame(data=[(5,6,7),(5,6,7)],schema=schema).show()\n",
    "# spark.createDataFrame(null_columns_calc_list, ['Column_Name', 'Null_Values_Count','Null_Value_Percent']).show()"
   ]
  },
  {
   "cell_type": "code",
   "execution_count": 8,
   "id": "55d3e7e8",
   "metadata": {},
   "outputs": [],
   "source": [
    "from pyspark.ml.feature import StringIndexer\n",
    "g=StringIndexer(inputCol='Sex',outputCol='Gen_Col')\n",
    "v=g.fit(df).transform(df)\n",
    "df=v.drop('Sex','Name')"
   ]
  },
  {
   "cell_type": "code",
   "execution_count": 9,
   "id": "b95abc65",
   "metadata": {},
   "outputs": [
    {
     "data": {
      "text/html": [
       "<div>\n",
       "<style scoped>\n",
       "    .dataframe tbody tr th:only-of-type {\n",
       "        vertical-align: middle;\n",
       "    }\n",
       "\n",
       "    .dataframe tbody tr th {\n",
       "        vertical-align: top;\n",
       "    }\n",
       "\n",
       "    .dataframe thead th {\n",
       "        text-align: right;\n",
       "    }\n",
       "</style>\n",
       "<table border=\"1\" class=\"dataframe\">\n",
       "  <thead>\n",
       "    <tr style=\"text-align: right;\">\n",
       "      <th></th>\n",
       "      <th>Survived</th>\n",
       "      <th>Pclass</th>\n",
       "      <th>Age</th>\n",
       "      <th>SiblingsSpouses Aboard</th>\n",
       "      <th>ParentsChildren Aboard</th>\n",
       "      <th>Fare</th>\n",
       "      <th>Gen_Col</th>\n",
       "      <th>features</th>\n",
       "    </tr>\n",
       "  </thead>\n",
       "  <tbody>\n",
       "    <tr>\n",
       "      <th>0</th>\n",
       "      <td>0</td>\n",
       "      <td>3</td>\n",
       "      <td>22.0</td>\n",
       "      <td>1</td>\n",
       "      <td>0</td>\n",
       "      <td>7.2500</td>\n",
       "      <td>0.0</td>\n",
       "      <td>[3.0, 22.0, 1.0, 0.0, 7.25, 0.0]</td>\n",
       "    </tr>\n",
       "    <tr>\n",
       "      <th>1</th>\n",
       "      <td>1</td>\n",
       "      <td>1</td>\n",
       "      <td>38.0</td>\n",
       "      <td>1</td>\n",
       "      <td>0</td>\n",
       "      <td>71.2833</td>\n",
       "      <td>1.0</td>\n",
       "      <td>[1.0, 38.0, 1.0, 0.0, 71.2833, 1.0]</td>\n",
       "    </tr>\n",
       "    <tr>\n",
       "      <th>2</th>\n",
       "      <td>1</td>\n",
       "      <td>3</td>\n",
       "      <td>26.0</td>\n",
       "      <td>0</td>\n",
       "      <td>0</td>\n",
       "      <td>7.9250</td>\n",
       "      <td>1.0</td>\n",
       "      <td>[3.0, 26.0, 0.0, 0.0, 7.925, 1.0]</td>\n",
       "    </tr>\n",
       "    <tr>\n",
       "      <th>3</th>\n",
       "      <td>1</td>\n",
       "      <td>1</td>\n",
       "      <td>35.0</td>\n",
       "      <td>1</td>\n",
       "      <td>0</td>\n",
       "      <td>53.1000</td>\n",
       "      <td>1.0</td>\n",
       "      <td>[1.0, 35.0, 1.0, 0.0, 53.1, 1.0]</td>\n",
       "    </tr>\n",
       "    <tr>\n",
       "      <th>4</th>\n",
       "      <td>0</td>\n",
       "      <td>3</td>\n",
       "      <td>35.0</td>\n",
       "      <td>0</td>\n",
       "      <td>0</td>\n",
       "      <td>8.0500</td>\n",
       "      <td>0.0</td>\n",
       "      <td>[3.0, 35.0, 0.0, 0.0, 8.05, 0.0]</td>\n",
       "    </tr>\n",
       "  </tbody>\n",
       "</table>\n",
       "</div>"
      ],
      "text/plain": [
       "   Survived  Pclass   Age  SiblingsSpouses Aboard  ParentsChildren Aboard  \\\n",
       "0         0       3  22.0                       1                       0   \n",
       "1         1       1  38.0                       1                       0   \n",
       "2         1       3  26.0                       0                       0   \n",
       "3         1       1  35.0                       1                       0   \n",
       "4         0       3  35.0                       0                       0   \n",
       "\n",
       "      Fare  Gen_Col                             features  \n",
       "0   7.2500      0.0     [3.0, 22.0, 1.0, 0.0, 7.25, 0.0]  \n",
       "1  71.2833      1.0  [1.0, 38.0, 1.0, 0.0, 71.2833, 1.0]  \n",
       "2   7.9250      1.0    [3.0, 26.0, 0.0, 0.0, 7.925, 1.0]  \n",
       "3  53.1000      1.0     [1.0, 35.0, 1.0, 0.0, 53.1, 1.0]  \n",
       "4   8.0500      0.0     [3.0, 35.0, 0.0, 0.0, 8.05, 0.0]  "
      ]
     },
     "execution_count": 9,
     "metadata": {},
     "output_type": "execute_result"
    }
   ],
   "source": [
    "from pyspark.ml.feature import VectorAssembler\n",
    "input_columns = df.columns \n",
    "input_columns = input_columns[1:] \n",
    "vecAssembler = VectorAssembler(inputCols=input_columns, outputCol=\"features\")\n",
    "df_kmeans = vecAssembler.transform(df)\n",
    "df_kmeans.limit(5).toPandas()"
   ]
  },
  {
   "cell_type": "code",
   "execution_count": 10,
   "id": "d977baa3",
   "metadata": {},
   "outputs": [
    {
     "name": "stdout",
     "output_type": "stream",
     "text": [
      "[0.         0.         0.97406795 0.91497372 0.81922853 0.78148193\n",
      " 0.60385217 0.49200774 0.61372646 0.60968895 0.60434023 0.62893952\n",
      " 0.60060975 0.56486044 0.57940103 0.57934825 0.57728547 0.52787228\n",
      " 0.59366382 0.57951056 0.59147428 0.5292159  0.56337806 0.59997166\n",
      " 0.54245571 0.57523814 0.57085226 0.54190741 0.59590609 0.51410167\n",
      " 0.52373749 0.54415796 0.52777644 0.5505415  0.52814098 0.53622115\n",
      " 0.52010412 0.53037725 0.55355835 0.52338034 0.5304636  0.53219158\n",
      " 0.51564929 0.51189597 0.51575261 0.51651365 0.51870184 0.53031097\n",
      " 0.49229003 0.5214153 ]\n"
     ]
    }
   ],
   "source": [
    "# find the best amount of cluster\n",
    "from pyspark.ml.clustering import KMeans\n",
    "from pyspark.ml.evaluation import ClusteringEvaluator\n",
    "import numpy as np\n",
    "\n",
    "kmax=50\n",
    "kmcost=np.zeros(kmax)\n",
    "for k in range(2,kmax):\n",
    "    kmeans=KMeans().setK(k).setSeed(1).setFeaturesCol(\"features\")\n",
    "    model=kmeans.fit(df_kmeans)\n",
    "    \n",
    "    predictions=model.transform(df_kmeans)\n",
    "    evaluator=ClusteringEvaluator()\n",
    "    kmcost[k]=evaluator.evaluate(predictions)\n",
    "    \n",
    "print(kmcost)"
   ]
  },
  {
   "cell_type": "code",
   "execution_count": 11,
   "id": "1bed136e",
   "metadata": {},
   "outputs": [
    {
     "data": {
      "text/html": [
       "<div>\n",
       "<style scoped>\n",
       "    .dataframe tbody tr th:only-of-type {\n",
       "        vertical-align: middle;\n",
       "    }\n",
       "\n",
       "    .dataframe tbody tr th {\n",
       "        vertical-align: top;\n",
       "    }\n",
       "\n",
       "    .dataframe thead th {\n",
       "        text-align: right;\n",
       "    }\n",
       "</style>\n",
       "<table border=\"1\" class=\"dataframe\">\n",
       "  <thead>\n",
       "    <tr style=\"text-align: right;\">\n",
       "      <th></th>\n",
       "      <th>Survived</th>\n",
       "      <th>Pclass</th>\n",
       "      <th>Age</th>\n",
       "      <th>SiblingsSpouses Aboard</th>\n",
       "      <th>ParentsChildren Aboard</th>\n",
       "      <th>Fare</th>\n",
       "      <th>Gen_Col</th>\n",
       "      <th>features</th>\n",
       "      <th>prediction</th>\n",
       "    </tr>\n",
       "  </thead>\n",
       "  <tbody>\n",
       "    <tr>\n",
       "      <th>0</th>\n",
       "      <td>0</td>\n",
       "      <td>3</td>\n",
       "      <td>22.0</td>\n",
       "      <td>1</td>\n",
       "      <td>0</td>\n",
       "      <td>7.2500</td>\n",
       "      <td>0.0</td>\n",
       "      <td>[3.0, 22.0, 1.0, 0.0, 7.25, 0.0]</td>\n",
       "      <td>0</td>\n",
       "    </tr>\n",
       "    <tr>\n",
       "      <th>1</th>\n",
       "      <td>1</td>\n",
       "      <td>1</td>\n",
       "      <td>38.0</td>\n",
       "      <td>1</td>\n",
       "      <td>0</td>\n",
       "      <td>71.2833</td>\n",
       "      <td>1.0</td>\n",
       "      <td>[1.0, 38.0, 1.0, 0.0, 71.2833, 1.0]</td>\n",
       "      <td>27</td>\n",
       "    </tr>\n",
       "    <tr>\n",
       "      <th>2</th>\n",
       "      <td>1</td>\n",
       "      <td>3</td>\n",
       "      <td>26.0</td>\n",
       "      <td>0</td>\n",
       "      <td>0</td>\n",
       "      <td>7.9250</td>\n",
       "      <td>1.0</td>\n",
       "      <td>[3.0, 26.0, 0.0, 0.0, 7.925, 1.0]</td>\n",
       "      <td>44</td>\n",
       "    </tr>\n",
       "    <tr>\n",
       "      <th>3</th>\n",
       "      <td>1</td>\n",
       "      <td>1</td>\n",
       "      <td>35.0</td>\n",
       "      <td>1</td>\n",
       "      <td>0</td>\n",
       "      <td>53.1000</td>\n",
       "      <td>1.0</td>\n",
       "      <td>[1.0, 35.0, 1.0, 0.0, 53.1, 1.0]</td>\n",
       "      <td>11</td>\n",
       "    </tr>\n",
       "    <tr>\n",
       "      <th>4</th>\n",
       "      <td>0</td>\n",
       "      <td>3</td>\n",
       "      <td>35.0</td>\n",
       "      <td>0</td>\n",
       "      <td>0</td>\n",
       "      <td>8.0500</td>\n",
       "      <td>0.0</td>\n",
       "      <td>[3.0, 35.0, 0.0, 0.0, 8.05, 0.0]</td>\n",
       "      <td>10</td>\n",
       "    </tr>\n",
       "  </tbody>\n",
       "</table>\n",
       "</div>"
      ],
      "text/plain": [
       "   Survived  Pclass   Age  SiblingsSpouses Aboard  ParentsChildren Aboard  \\\n",
       "0         0       3  22.0                       1                       0   \n",
       "1         1       1  38.0                       1                       0   \n",
       "2         1       3  26.0                       0                       0   \n",
       "3         1       1  35.0                       1                       0   \n",
       "4         0       3  35.0                       0                       0   \n",
       "\n",
       "      Fare  Gen_Col                             features  prediction  \n",
       "0   7.2500      0.0     [3.0, 22.0, 1.0, 0.0, 7.25, 0.0]           0  \n",
       "1  71.2833      1.0  [1.0, 38.0, 1.0, 0.0, 71.2833, 1.0]          27  \n",
       "2   7.9250      1.0    [3.0, 26.0, 0.0, 0.0, 7.925, 1.0]          44  \n",
       "3  53.1000      1.0     [1.0, 35.0, 1.0, 0.0, 53.1, 1.0]          11  \n",
       "4   8.0500      0.0     [3.0, 35.0, 0.0, 0.0, 8.05, 0.0]          10  "
      ]
     },
     "execution_count": 11,
     "metadata": {},
     "output_type": "execute_result"
    }
   ],
   "source": [
    "predictions.limit(5).toPandas()"
   ]
  },
  {
   "cell_type": "code",
   "execution_count": 12,
   "id": "ca33ce45",
   "metadata": {},
   "outputs": [
    {
     "data": {
      "text/plain": [
       "Text(0, 0.5, 'cost')"
      ]
     },
     "execution_count": 12,
     "metadata": {},
     "output_type": "execute_result"
    },
    {
     "data": {
      "image/png": "[encoded data removed]",
      "text/plain": [
       "<Figure size 576x432 with 1 Axes>"
      ]
     },
     "metadata": {
      "needs_background": "light"
     },
     "output_type": "display_data"
    }
   ],
   "source": [
    "import matplotlib.pyplot as plt\n",
    "from mpl_toolkits.mplot3d import Axes3D\n",
    "\n",
    "fig, ax=plt.subplots(1,1, figsize=(8,6))\n",
    "ax.plot(range(2,kmax),kmcost[2:kmax])\n",
    "ax.set_xlabel('k')\n",
    "ax.set_ylabel('cost')"
   ]
  },
  {
   "cell_type": "code",
   "execution_count": 13,
   "id": "45df8fd2",
   "metadata": {},
   "outputs": [
    {
     "name": "stdout",
     "output_type": "stream",
     "text": [
      "[0.         0.         0.91596326 0.73296867 0.76190436 0.57079327\n",
      " 0.5500682  0.54229694 0.56464333 0.56315445 0.58293439 0.57494441\n",
      " 0.59315855 0.59361872 0.54084177 0.54111963 0.53905285 0.42869682\n",
      " 0.43175538 0.4489439  0.47591945 0.42391204 0.46085088 0.45670499\n",
      " 0.46097521 0.46510133 0.45238088 0.45070103 0.45114411 0.4533729\n",
      " 0.46442906 0.46068531 0.3532594  0.42572652 0.41899251 0.43645081\n",
      " 0.47906516 0.44312442 0.44400555 0.44426316 0.43307468 0.43747857\n",
      " 0.44244078 0.44621084 0.44614205 0.4378218  0.43364021 0.32217909\n",
      " 0.43045532 0.42918461]\n"
     ]
    }
   ],
   "source": [
    "# Bisecting kmeans\n",
    "from pyspark.ml.clustering import BisectingKMeans\n",
    "\n",
    "kmax=50\n",
    "bkmcost=np.zeros(kmax)\n",
    "for k in range(2,kmax):\n",
    "    bkmeans=BisectingKMeans().setK(k).setSeed(1).setFeaturesCol(\"features\")\n",
    "    model=bkmeans.fit(df_kmeans)\n",
    "    \n",
    "    predictions=model.transform(df_kmeans)\n",
    "    evaluator=ClusteringEvaluator()\n",
    "    bkmcost[k]=evaluator.evaluate(predictions)\n",
    "    \n",
    "print(bkmcost)"
   ]
  },
  {
   "cell_type": "code",
   "execution_count": 14,
   "id": "8b6a7e4b",
   "metadata": {},
   "outputs": [
    {
     "data": {
      "text/plain": [
       "Text(0, 0.5, 'cost')"
      ]
     },
     "execution_count": 14,
     "metadata": {},
     "output_type": "execute_result"
    },
    {
     "data": {
      "image/png": "[encoded data removed]",
      "text/plain": [
       "<Figure size 576x432 with 1 Axes>"
      ]
     },
     "metadata": {
      "needs_background": "light"
     },
     "output_type": "display_data"
    }
   ],
   "source": [
    "fig, ax=plt.subplots(1,1, figsize=(8,6))\n",
    "ax.plot(range(2,kmax),bkmcost[2:kmax])\n",
    "ax.set_xlabel('k')\n",
    "ax.set_ylabel('cost')"
   ]
  },
  {
   "cell_type": "code",
   "execution_count": 15,
   "id": "653582b1",
   "metadata": {},
   "outputs": [
    {
     "data": {
      "text/plain": [
       "[(2, 0.05810468814615222),\n",
       " (7, -0.050289200622376296),\n",
       " (12, 0.007451197678912225),\n",
       " (17, 0.0991754547164479),\n",
       " (22, 0.10252718010401579),\n",
       " (27, 0.09120638407173265),\n",
       " (32, 0.17451704375977195),\n",
       " (37, 0.0872528248352345),\n",
       " (42, 0.07320850280325342),\n",
       " (47, 0.2081318828817355)]"
      ]
     },
     "execution_count": 15,
     "metadata": {},
     "output_type": "execute_result"
    }
   ],
   "source": [
    "# comparision between two kmeans\n",
    "def compare(bkmcost,kmcost):\n",
    "    diff=[]\n",
    "    for k in range(2,kmax,5):\n",
    "        temp=k,(kmcost[k]-bkmcost[k])\n",
    "        diff.append(temp)\n",
    "    return(diff)\n",
    "\n",
    "diff_list=compare(bkmcost,kmcost)\n",
    "diff_list"
   ]
  },
  {
   "cell_type": "code",
   "execution_count": 16,
   "id": "0c7045b4",
   "metadata": {},
   "outputs": [
    {
     "data": {
      "text/plain": [
       "Text(0, 0.5, 'cost')"
      ]
     },
     "execution_count": 16,
     "metadata": {},
     "output_type": "execute_result"
    },
    {
     "data": {
      "image/png": "[encoded data removed]",
      "text/plain": [
       "<Figure size 576x432 with 1 Axes>"
      ]
     },
     "metadata": {
      "needs_background": "light"
     },
     "output_type": "display_data"
    }
   ],
   "source": [
    "#Let's plot both graphs together\n",
    "fig, ax = plt.subplots(1,1, figsize = (8,6))\n",
    "ax.plot(range(2,kmax),bkmcost[2:kmax],color='blue')\n",
    "ax.plot(range(2,kmax),kmcost[2:kmax],color='red')\n",
    "ax.set_xlabel('k')\n",
    "ax.set_ylabel('cost')"
   ]
  },
  {
   "cell_type": "code",
   "execution_count": 17,
   "id": "fab4953e",
   "metadata": {},
   "outputs": [
    {
     "name": "stdout",
     "output_type": "stream",
     "text": [
      "Silhouette with squared euclidean distance = 0.6137264596864127\n",
      " \n",
      "Cluster Centers: \n",
      "[ 2.77136259 25.2817552   0.2147806   0.09930716 10.12267991  0.28637413]\n",
      "[1.00000000e+00 3.53333333e+01 0.00000000e+00 3.33333333e-01\n",
      " 5.12329200e+02 3.33333333e-01]\n",
      "[  1.          32.29411765   0.88235294   1.17647059 238.18725294\n",
      "   0.64705882]\n",
      "[  1.       32.96625   0.59375   0.8125  131.87955   0.6875 ]\n",
      "[ 2.0441989  46.1878453   0.21546961  0.37569061 20.46325856  0.25966851]\n",
      "[ 1.60294118 31.97058824  1.44117647  0.69117647 54.88284559  0.42647059]\n",
      "[ 2.58163265  8.7372449   1.69387755  1.19387755 26.38516122  0.5       ]\n",
      "[ 1.10909091 38.07272727  0.65454545  0.32727273 80.79712182  0.56363636]\n"
     ]
    }
   ],
   "source": [
    "# Final model\n",
    "k = 8\n",
    "kmeans = KMeans().setK(k).setSeed(1).setFeaturesCol(\"features\")\n",
    "model = kmeans.fit(df_kmeans)\n",
    "\n",
    "# bkmeans = BisectingKMeans().setK(k).setSeed(1).setFeaturesCol(\"features\")\n",
    "# model = bkmeans.fit(df_kmeans)\n",
    "\n",
    "# Make predictions\n",
    "predictions = model.transform(df_kmeans)\n",
    "\n",
    "# Evaluate clustering by computing Silhouette score\n",
    "evaluator = ClusteringEvaluator()\n",
    "silhouette = evaluator.evaluate(predictions)\n",
    "print(\"Silhouette with squared euclidean distance = \" + str(silhouette))\n",
    "print(\" \")\n",
    "\n",
    "# Shows the cluster centers\n",
    "centers = model.clusterCenters()\n",
    "print(\"Cluster Centers: \")\n",
    "for center in centers:\n",
    "    print(center)"
   ]
  },
  {
   "cell_type": "code",
   "execution_count": null,
   "id": "0a8d7f47",
   "metadata": {},
   "outputs": [],
   "source": []
  }
 ],
 "metadata": {
  "kernelspec": {
   "display_name": "Python 3 (ipykernel)",
   "language": "python",
   "name": "python3"
  },
  "language_info": {
   "codemirror_mode": {
    "name": "ipython",
    "version": 3
   },
   "file_extension": ".py",
   "mimetype": "text/x-python",
   "name": "python",
   "nbconvert_exporter": "python",
   "pygments_lexer": "ipython3",
   "version": "3.9.7"
  }
 },
 "nbformat": 4,
 "nbformat_minor": 5
}
