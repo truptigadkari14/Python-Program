{
 "cells": [
  {
   "cell_type": "code",
   "execution_count": 8,
   "id": "d89fac8d",
   "metadata": {},
   "outputs": [
    {
     "data": {
      "text/plain": [
       "6"
      ]
     },
     "execution_count": 8,
     "metadata": {},
     "output_type": "execute_result"
    }
   ],
   "source": [
    "def myfunction():\n",
    "    return 3+3\n",
    "\n",
    "myfunction()"
   ]
  },
  {
   "cell_type": "code",
   "execution_count": 5,
   "id": "4ddf370f",
   "metadata": {},
   "outputs": [
    {
     "name": "stdout",
     "output_type": "stream",
     "text": [
      "Present Number = 1 \n",
      "Present Number = 3 \n",
      "Present Number = 4 \n"
     ]
    }
   ],
   "source": [
    "for numb in range(1,5):\n",
    "    if numb==2:\n",
    "        pass\n",
    "    else:\n",
    "        print (\"Present Number = {} \".format(numb))"
   ]
  },
  {
   "cell_type": "code",
   "execution_count": 6,
   "id": "91dd354e",
   "metadata": {},
   "outputs": [
    {
     "name": "stdout",
     "output_type": "stream",
     "text": [
      "The last letter : i\n"
     ]
    }
   ],
   "source": [
    "for letter in 'trupti':\n",
    "    pass\n",
    "print('The last letter :', letter)"
   ]
  },
  {
   "cell_type": "code",
   "execution_count": 7,
   "id": "59c192ec",
   "metadata": {},
   "outputs": [
    {
     "name": "stdout",
     "output_type": "stream",
     "text": [
      "H\n",
      "E\n",
      "L\n",
      "L\n",
      "O\n"
     ]
    }
   ],
   "source": [
    "def generator():\n",
    "    yield \"H\"\n",
    "    yield \"E\"\n",
    "    yield \"L\"\n",
    "    yield \"L\"\n",
    "    yield \"O\"\n",
    "\n",
    "test = generator()\n",
    "for i in test:\n",
    "    print(i)"
   ]
  },
  {
   "cell_type": "code",
   "execution_count": 10,
   "id": "258c77ad",
   "metadata": {},
   "outputs": [
    {
     "name": "stdout",
     "output_type": "stream",
     "text": [
      "11\n"
     ]
    }
   ],
   "source": [
    "def add(*p):\n",
    "    sum=0\n",
    "    for i in p:\n",
    "        sum+=i\n",
    "    print(sum)\n",
    "    \n",
    "add(6,5)"
   ]
  },
  {
   "cell_type": "code",
   "execution_count": 11,
   "id": "b0119c66",
   "metadata": {},
   "outputs": [
    {
     "name": "stdout",
     "output_type": "stream",
     "text": [
      "22\n"
     ]
    }
   ],
   "source": [
    "add(4,5,6,7)"
   ]
  },
  {
   "cell_type": "code",
   "execution_count": 24,
   "id": "266d8f67",
   "metadata": {},
   "outputs": [
    {
     "name": "stdout",
     "output_type": "stream",
     "text": [
      "272\n"
     ]
    }
   ],
   "source": [
    "def marks(**sub):\n",
    "    sum=0\n",
    "    #sum=['mar']+[\"eng\"]+[\"hindi\"]\n",
    "    for k,v in sub.items():\n",
    "        sum+=v\n",
    "    print(sum)\n",
    "    \n",
    "marks(mar=98,hindi=87,eng=87)"
   ]
  },
  {
   "cell_type": "code",
   "execution_count": 3,
   "id": "f24a808b",
   "metadata": {},
   "outputs": [
    {
     "name": "stdout",
     "output_type": "stream",
     "text": [
      "{'poornima': 87, 'trupti': 78}\n"
     ]
    }
   ],
   "source": [
    "def generateResult(*p,**sub):\n",
    "    print(sub)\n",
    "    \n",
    "generateResult(poornima=87,trupti=78)"
   ]
  },
  {
   "cell_type": "code",
   "execution_count": 3,
   "id": "84412059",
   "metadata": {},
   "outputs": [
    {
     "name": "stdout",
     "output_type": "stream",
     "text": [
      "8\n"
     ]
    }
   ],
   "source": [
    "def addition(a,b):\n",
    "    return a+b\n",
    "print(addition(3,5))"
   ]
  },
  {
   "cell_type": "code",
   "execution_count": 5,
   "id": "4a084ec1",
   "metadata": {},
   "outputs": [
    {
     "data": {
      "text/plain": [
       "26"
      ]
     },
     "execution_count": 5,
     "metadata": {},
     "output_type": "execute_result"
    }
   ],
   "source": [
    "def addition(*p):\n",
    "    result=0\n",
    "    for i in p:\n",
    "        result+=i\n",
    "    return result\n",
    "\n",
    "addition(6,7,8,5)"
   ]
  },
  {
   "cell_type": "code",
   "execution_count": 6,
   "id": "357f287a",
   "metadata": {},
   "outputs": [
    {
     "data": {
      "text/plain": [
       "0"
      ]
     },
     "execution_count": 6,
     "metadata": {},
     "output_type": "execute_result"
    }
   ],
   "source": [
    "addition()"
   ]
  },
  {
   "cell_type": "code",
   "execution_count": 9,
   "id": "eeedd317",
   "metadata": {},
   "outputs": [
    {
     "data": {
      "text/plain": [
       "18"
      ]
     },
     "execution_count": 9,
     "metadata": {},
     "output_type": "execute_result"
    }
   ],
   "source": [
    "addition(4,6,8)"
   ]
  },
  {
   "cell_type": "code",
   "execution_count": 16,
   "id": "a004f0d4",
   "metadata": {},
   "outputs": [
    {
     "name": "stdout",
     "output_type": "stream",
     "text": [
      "a is 4\n",
      "b is 5\n",
      "args are (6, 7, 8)\n"
     ]
    }
   ],
   "source": [
    "def args(a, b, *args):\n",
    "    print(f'a is {a}')\n",
    "    print(f'b is {b}')\n",
    "    print(f'args are {args}')\n",
    "\n",
    "args(4,5,6,7,8)"
   ]
  },
  {
   "cell_type": "code",
   "execution_count": 13,
   "id": "f077cace",
   "metadata": {},
   "outputs": [],
   "source": [
    "def addition(a, b, *args, option=True):\n",
    "    result = 0\n",
    "    if option:\n",
    "        for i in args:\n",
    "            result += i\n",
    "            return a + b + result\n",
    "    else:\n",
    "        return result"
   ]
  },
  {
   "cell_type": "code",
   "execution_count": 14,
   "id": "49851ba2",
   "metadata": {},
   "outputs": [
    {
     "data": {
      "text/plain": [
       "18"
      ]
     },
     "execution_count": 14,
     "metadata": {},
     "output_type": "execute_result"
    }
   ],
   "source": [
    "addition(5,6,7,8,9,3)"
   ]
  },
  {
   "cell_type": "code",
   "execution_count": 15,
   "id": "c4ac393f",
   "metadata": {},
   "outputs": [
    {
     "data": {
      "text/plain": [
       "0"
      ]
     },
     "execution_count": 15,
     "metadata": {},
     "output_type": "execute_result"
    }
   ],
   "source": [
    "addition(5,3,6,4, option=False)"
   ]
  },
  {
   "cell_type": "code",
   "execution_count": 17,
   "id": "3401b5e7",
   "metadata": {},
   "outputs": [
    {
     "name": "stdout",
     "output_type": "stream",
     "text": [
      "3 4\n",
      "True\n",
      "{'param1': 5, 'param2': 6}\n"
     ]
    }
   ],
   "source": [
    "def args(a, b, option=True, **kwargs):\n",
    "    print(a, b)\n",
    "    print(option)\n",
    "    print(kwargs)\n",
    "args(3, 4, param1=5, param2=6)"
   ]
  },
  {
   "cell_type": "code",
   "execution_count": 19,
   "id": "9f1d0d05",
   "metadata": {},
   "outputs": [
    {
     "name": "stdout",
     "output_type": "stream",
     "text": [
      "1 4\n",
      "(6, 5)\n",
      "True\n",
      "{'param1': 5, 'param2': 6}\n"
     ]
    }
   ],
   "source": [
    "def args(a, b, *args, option=True, **kwargs):\n",
    "    print(a, b)\n",
    "    print(args)\n",
    "    print(option)\n",
    "    print(kwargs)\n",
    "    \n",
    "args(1, 4, 6, 5, param1=5, param2=6)"
   ]
  },
  {
   "cell_type": "code",
   "execution_count": 24,
   "id": "4fa30cdc",
   "metadata": {},
   "outputs": [],
   "source": [
    "def args(*args):\n",
    "    print(args)"
   ]
  },
  {
   "cell_type": "code",
   "execution_count": 25,
   "id": "d94ebe68",
   "metadata": {},
   "outputs": [
    {
     "name": "stdout",
     "output_type": "stream",
     "text": [
      "([1, 4, 5],)\n"
     ]
    }
   ],
   "source": [
    "lst = [1,4,5]\n",
    "args(lst)"
   ]
  },
  {
   "cell_type": "code",
   "execution_count": 26,
   "id": "9388662b",
   "metadata": {},
   "outputs": [
    {
     "name": "stdout",
     "output_type": "stream",
     "text": [
      "(1, 4, 5)\n"
     ]
    }
   ],
   "source": [
    "args(*lst)"
   ]
  },
  {
   "cell_type": "code",
   "execution_count": 28,
   "id": "161501fb",
   "metadata": {},
   "outputs": [
    {
     "name": "stdout",
     "output_type": "stream",
     "text": [
      "(1, 4, 5, 'a', 'b', 4, 5, 6)\n"
     ]
    }
   ],
   "source": [
    "l = [1,4,5]\n",
    "t = ('a','b',4)\n",
    "args(*l, *t, 5, 6)"
   ]
  },
  {
   "cell_type": "code",
   "execution_count": 29,
   "id": "253d8c20",
   "metadata": {},
   "outputs": [],
   "source": [
    "def kwargs(**kwargs):\n",
    "    print(kwargs)"
   ]
  },
  {
   "cell_type": "code",
   "execution_count": 30,
   "id": "b55433b7",
   "metadata": {},
   "outputs": [
    {
     "name": "stdout",
     "output_type": "stream",
     "text": [
      "{'param1': 5, 'param2': 8}\n"
     ]
    }
   ],
   "source": [
    "d = {'param1':5, 'param2':8}\n",
    "kwargs(**d)"
   ]
  },
  {
   "cell_type": "code",
   "execution_count": 32,
   "id": "e2267a3e",
   "metadata": {},
   "outputs": [
    {
     "name": "stdout",
     "output_type": "stream",
     "text": [
      "{'param3': 9, 'param1': 5, 'param2': 8}\n"
     ]
    }
   ],
   "source": [
    "d = {'param1':5, 'param2':8}\n",
    "kwargs(param3=9, **d)"
   ]
  },
  {
   "cell_type": "code",
   "execution_count": null,
   "id": "af8a21a2",
   "metadata": {},
   "outputs": [],
   "source": []
  }
 ],
 "metadata": {
  "kernelspec": {
   "display_name": "Python 3 (ipykernel)",
   "language": "python",
   "name": "python3"
  },
  "language_info": {
   "codemirror_mode": {
    "name": "ipython",
    "version": 3
   },
   "file_extension": ".py",
   "mimetype": "text/x-python",
   "name": "python",
   "nbconvert_exporter": "python",
   "pygments_lexer": "ipython3",
   "version": "3.9.7"
  }
 },
 "nbformat": 4,
 "nbformat_minor": 5
}
