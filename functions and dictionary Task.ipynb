{
 "cells": [
  {
   "cell_type": "code",
   "execution_count": 35,
   "metadata": {},
   "outputs": [],
   "source": [
    "class employees:\n",
    "    def __init__(self,empid, empname,empsalary):\n",
    "        self.empname = empname\n",
    "        self.empid = empid\n",
    "        self.empsalary = empsalary\n",
    "        \n",
    "    def displayDetails(self):\n",
    "        print('Name:',self.empname, 'EmpId:',self.empid, 'Salary:',self.empsalary)\n"
   ]
  },
  {
   "cell_type": "code",
   "execution_count": 62,
   "metadata": {},
   "outputs": [
    {
     "name": "stdout",
     "output_type": "stream",
     "text": [
      "Details of all employees\n",
      "Name: 102 EmpId: Srushti Salary: 75000\n",
      "Name: 103 EmpId: Kajal Salary: 65300\n",
      "Name: 101 EmpId: Trupti Salary: 76400\n",
      "===================================\n",
      "[76400, 75000, 65300]\n"
     ]
    }
   ],
   "source": [
    "e = employees('Srushti',102,75000)\n",
    "e1 = employees('Kajal',103,65300)\n",
    "e2 = employees('Trupti',101,76400)\n",
    "print('Details of all employees')\n",
    "e.displayDetails()\n",
    "e1.displayDetails()\n",
    "e2.displayDetails()\n",
    "print(\"===================================\")\n",
    "\n",
    "empsal = [e.empsalary,e1.empsalary,e2.empsalary]\n",
    "empsal.sort(reverse = True)\n",
    "print(empsal)"
   ]
  },
  {
   "cell_type": "code",
   "execution_count": 58,
   "metadata": {},
   "outputs": [
    {
     "name": "stdout",
     "output_type": "stream",
     "text": [
      "{'empname': ['Trupti', 'Kajal', 'Komal'], 'empid': [101, 102, 103], 'empsalary': [56900, 34000, 54000]}\n",
      "[56900, 54000, 34000]\n"
     ]
    }
   ],
   "source": [
    "class employees:\n",
    "    def __init__(self):\n",
    "        self.empname = ['Trupti','Kajal','Komal']\n",
    "        self.empid = [101,102,103]\n",
    "        self.empsalary = [56900,34000,54000]\n",
    "        \n",
    "e = employees()\n",
    "print(vars(e))\n",
    "empsal = e.empsalary\n",
    "empsal.sort(reverse = True)\n",
    "print(empsal)\n",
    "\n"
   ]
  },
  {
   "cell_type": "code",
   "execution_count": 15,
   "metadata": {},
   "outputs": [],
   "source": [
    "class employees:\n",
    "    def __init__(self,empname,empid,empsalary):\n",
    "        self.empname = empname\n",
    "        self.empid = empid\n",
    "        self.empsalary = empsalary\n",
    "    \n",
    "    def __str__(self):\n",
    "        return \"{},{},{}\".format(self.empname,self.empid,self.empsalary)\n",
    "    "
   ]
  },
  {
   "cell_type": "code",
   "execution_count": 8,
   "metadata": {},
   "outputs": [
    {
     "name": "stdout",
     "output_type": "stream",
     "text": [
      "Help on built-in function format in module builtins:\n",
      "\n",
      "format(value, format_spec='', /)\n",
      "    Return value.__format__(format_spec)\n",
      "    \n",
      "    format_spec defaults to the empty string.\n",
      "    See the Format Specification Mini-Language section of help('FORMATTING') for\n",
      "    details.\n",
      "\n"
     ]
    }
   ],
   "source": [
    "help(format)"
   ]
  },
  {
   "cell_type": "code",
   "execution_count": 31,
   "metadata": {},
   "outputs": [
    {
     "name": "stdout",
     "output_type": "stream",
     "text": [
      "Srushti,101,76000\n",
      "Trupti,102,56000\n",
      "[<__main__.employees object at 0x000001E8229B2160>]\n",
      "[<__main__.employees object at 0x000001E8229B2160>, <__main__.employees object at 0x000001E8229B2880>]\n",
      "Srushti,101,76000\n",
      "Trupti,102,56000\n",
      "[<__main__.employees object at 0x000001E8229B2160>, <__main__.employees object at 0x000001E8229B2880>]\n",
      "Srushti,101,76000\n",
      "Trupti,102,56000\n"
     ]
    }
   ],
   "source": [
    "e = employees('Srushti',101,76000)\n",
    "e1= employees('Trupti',102,56000)\n",
    "print(e)\n",
    "print(e1)\n",
    "\n",
    "l1 = list()\n",
    "l1.append(e)\n",
    "print(l1)\n",
    "l1.append(e1)\n",
    "print(l1)\n",
    "\n",
    "for i in l1:\n",
    "    print(i)\n",
    "#print(emp.values())\n",
    "\n",
    "def mysort(e):\n",
    "    return e.empsalary\n",
    "\n",
    "l1.sort(key = mysort,reverse = True)\n",
    "print(l1)\n",
    "for i in l1:\n",
    "    print(i)"
   ]
  },
  {
   "cell_type": "code",
   "execution_count": 36,
   "metadata": {},
   "outputs": [],
   "source": [
    "class employees:\n",
    "    def __init__(self,empname,empid,empsalary):\n",
    "        self.empname = empname\n",
    "        self.empid = empid\n",
    "        self.empsalary = empsalary\n",
    "        \n",
    "    def __init__(self):\n",
    "        self.empname= 'Trupti'\n",
    "        self.empid = 102\n",
    "        self.salary=56000"
   ]
  },
  {
   "cell_type": "code",
   "execution_count": 39,
   "metadata": {},
   "outputs": [
    {
     "name": "stdout",
     "output_type": "stream",
     "text": [
      "{'empname': 'Trupti', 'empid': 102, 'salary': 56000}\n"
     ]
    },
    {
     "ename": "TypeError",
     "evalue": "__init__() takes 1 positional argument but 4 were given",
     "output_type": "error",
     "traceback": [
      "\u001b[1;31m---------------------------------------------------------------------------\u001b[0m",
      "\u001b[1;31mTypeError\u001b[0m                                 Traceback (most recent call last)",
      "\u001b[1;32m~\\AppData\\Local\\Temp/ipykernel_20700/2637584535.py\u001b[0m in \u001b[0;36m<module>\u001b[1;34m\u001b[0m\n\u001b[0;32m      2\u001b[0m \u001b[0mprint\u001b[0m\u001b[1;33m(\u001b[0m\u001b[0me\u001b[0m\u001b[1;33m.\u001b[0m\u001b[0m__dict__\u001b[0m\u001b[1;33m)\u001b[0m\u001b[1;33m\u001b[0m\u001b[1;33m\u001b[0m\u001b[0m\n\u001b[0;32m      3\u001b[0m \u001b[1;33m\u001b[0m\u001b[0m\n\u001b[1;32m----> 4\u001b[1;33m \u001b[0me1\u001b[0m \u001b[1;33m=\u001b[0m \u001b[0memployees\u001b[0m\u001b[1;33m(\u001b[0m\u001b[1;34m'kajal'\u001b[0m\u001b[1;33m,\u001b[0m\u001b[1;36m103\u001b[0m\u001b[1;33m,\u001b[0m\u001b[1;36m65000\u001b[0m\u001b[1;33m)\u001b[0m\u001b[1;33m\u001b[0m\u001b[1;33m\u001b[0m\u001b[0m\n\u001b[0m\u001b[0;32m      5\u001b[0m \u001b[0mprint\u001b[0m\u001b[1;33m(\u001b[0m\u001b[0me1\u001b[0m\u001b[1;33m.\u001b[0m\u001b[0m__dict__\u001b[0m\u001b[1;33m)\u001b[0m\u001b[1;33m\u001b[0m\u001b[1;33m\u001b[0m\u001b[0m\n\u001b[0;32m      6\u001b[0m \u001b[1;33m\u001b[0m\u001b[0m\n",
      "\u001b[1;31mTypeError\u001b[0m: __init__() takes 1 positional argument but 4 were given"
     ]
    }
   ],
   "source": [
    "e = employees()\n",
    "print(e.__dict__)\n",
    "\n",
    "e1 = employees('kajal',103,65000)\n",
    "print(e1.__dict__)\n",
    "\n",
    "static variable\n",
    "stati"
   ]
  },
  {
   "cell_type": "code",
   "execution_count": 38,
   "metadata": {},
   "outputs": [
    {
     "name": "stdout",
     "output_type": "stream",
     "text": [
      "{23: 3, 45: 4, 68: 1, 34: 2, 12: 1}\n"
     ]
    }
   ],
   "source": [
    "l = [23,45,68,23,23,34,45,34,45,12,45]\n",
    "dict1 = {}\n",
    "for key in l:\n",
    "    if key not in dict1:\n",
    "        dict1[key] = l.count(key)\n",
    "        \n",
    "print(dict1)"
   ]
  },
  {
   "cell_type": "code",
   "execution_count": 45,
   "metadata": {},
   "outputs": [
    {
     "name": "stdout",
     "output_type": "stream",
     "text": [
      "['BJP', 'NCP', 'BJP']\n",
      "{'BJP': 2, 'NCP': 1}\n"
     ]
    }
   ],
   "source": [
    "dict1 = {'X':'BJP','Y':'NCP','Z':'BJP'}\n",
    "d = dict1.values()\n",
    "l1 = list(val for val in d)\n",
    "print(l1)\n",
    "\n",
    "dict3 = {v:l1.count(v) for v in l1}\n",
    "print(dict3)"
   ]
  },
  {
   "cell_type": "code",
   "execution_count": 38,
   "metadata": {},
   "outputs": [
    {
     "name": "stdout",
     "output_type": "stream",
     "text": [
      "{'BJP': 2, 'Congress': 1}\n"
     ]
    }
   ],
   "source": [
    "l1 = [{'pan_id':'A123','vote':'BJP'},\n",
    "     {'pan_id':'B123','vote':'Congress'},\n",
    "     {'pan_id':'C123','vote':'BJP'}]\n",
    "\n",
    "l2 = list(i['vote'] for i in l1)\n",
    "d1 = {k:l2.count(k) for k in l2}\n",
    "print(d1)"
   ]
  },
  {
   "cell_type": "code",
   "execution_count": 52,
   "metadata": {},
   "outputs": [
    {
     "name": "stdout",
     "output_type": "stream",
     "text": [
      "{'Apple': 50, 'Mango': 140, 'Banana': 25, 'Watermellon': 20}\n"
     ]
    }
   ],
   "source": [
    "dict1 = {'fruit1':{'Apple':45,'Mango':60,'Banana':20},\n",
    "        'fruit2':{'Apple':5,'Mango':20,'Watermellon':20},\n",
    "        'fruit3':{'Banana':5,'Mango':60}}\n",
    "dict2 = {}\n",
    "for k in dict1:\n",
    "    for k1 in dict1[k].keys():\n",
    "        if k1 in dict2:\n",
    "            dict2[k1] += dict1[k][k1]\n",
    "        else :\n",
    "            dict2[k1] = dict1[k][k1]\n",
    "            \n",
    "print(dict2)"
   ]
  },
  {
   "cell_type": "code",
   "execution_count": null,
   "metadata": {},
   "outputs": [],
   "source": []
  }
 ],
 "metadata": {
  "kernelspec": {
   "display_name": "Python 3 (ipykernel)",
   "language": "python",
   "name": "python3"
  },
  "language_info": {
   "codemirror_mode": {
    "name": "ipython",
    "version": 3
   },
   "file_extension": ".py",
   "mimetype": "text/x-python",
   "name": "python",
   "nbconvert_exporter": "python",
   "pygments_lexer": "ipython3",
   "version": "3.9.7"
  }
 },
 "nbformat": 4,
 "nbformat_minor": 4
}
